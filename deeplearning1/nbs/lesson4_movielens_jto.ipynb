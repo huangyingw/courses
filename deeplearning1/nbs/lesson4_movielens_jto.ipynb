{
 "cells": [
  {
   "cell_type": "markdown",
   "metadata": {},
   "source": [
    "## Fastai deep learning course lesson4 学习笔记（下）\n",
    "分享者：胡智豪 \n",
    "email: justinhochn@gmail.com"
   ]
  },
  {
   "cell_type": "markdown",
   "metadata": {},
   "source": [
    "## 简述\n",
    "本篇学习笔记是接着lesson4的下篇，上篇介绍了StateFarm的任务，下篇来介绍推荐系统的协同过滤算法，开始接触NLP方面的内容。"
   ]
  },
  {
   "cell_type": "markdown",
   "metadata": {},
   "source": [
    "## 原理介绍\n",
    "建议同学们先下载jeremy的excel表，来看看这个电影的协同过滤算法是如何进行推荐的。\n",
    "\n",
    "我对图一和图二的表格进行了填色，这样便于解释各个方块的含义：\n",
    "1. 图一：此表格为用户对他们所看过的电影的**真实评分**。\n",
    "2. 图二蓝色区域：此区域是每个用户对于每部电影的**评分预测**\n",
    "3. 图二绿色区域：左右两块绿色区域分别代表的是用户的特征以及电影的特征，对于每一个用户和每一部电影，这里各用5个数字进行表示。\n",
    "4. 图二黄色区域：左右两块黄色区域分别代表**用户特征的偏置项**以及**电影特征的偏置项**。用户偏置项的意思是，预防有些用户是电影的狂热粉丝，有些用户不怎么看电影，这两个极端导致的评分相差太大。电影偏置项的意思是，预防有些电影是只是明星效应高实际不怎么好看，有些电影很好看但是演员不出名比较冷门，这两种极端情况导致的评分相差太大。\n",
    "\n",
    "**协同过滤算法的计算流程**\n",
    "1. **用户特征**与**电影特征**进行**矩阵相乘**，并加上用户和电影特征各自的**偏置项（bias）**，获得用户对这部电影的**预测评分**。用图上的解释为：用户和电影的绿色区域相乘，再加上黄色区域的数字。\n",
    "2. **预测评分**与**真实评分**相减，得出评分数值的误差。\n",
    "3. 进行**梯度下降**，不断**更新用户特征及电影特征的数值**，最终使得评分误差最小。"
   ]
  },
  {
   "cell_type": "markdown",
   "metadata": {},
   "source": [
    "## 代码解释\n",
    "本文只对课程内核心代码进行解释，完整的代码可以点击这里下载。"
   ]
  },
  {
   "cell_type": "code",
   "execution_count": 1,
   "metadata": {
    "collapsed": false
   },
   "outputs": [
    {
     "name": "stderr",
     "output_type": "stream",
     "text": [
      "WARNING (theano.configdefaults): g++ not available, if using conda: `conda install m2w64-toolchain`\n",
      "WARNING (theano.configdefaults): g++ not detected ! Theano will be unable to execute optimized C-implementations (for both CPU and GPU) and will default to Python implementations. Performance will be severely degraded. To remove this warning, set Theano flags cxx to an empty string.\n"
     ]
    }
   ],
   "source": [
    "from theano.sandbox import cuda"
   ]
  },
  {
   "cell_type": "code",
   "execution_count": 2,
   "metadata": {
    "collapsed": true
   },
   "outputs": [
    {
     "ename": "ImportError",
     "evalue": "No module named 'cPickle'",
     "output_type": "error",
     "traceback": [
      "\u001b[0;31m---------------------------------------------------------------------------\u001b[0m",
      "\u001b[0;31mImportError\u001b[0m                               Traceback (most recent call last)",
      "\u001b[0;32m<ipython-input-2-55c83ede21af>\u001b[0m in \u001b[0;36m<module>\u001b[0;34m()\u001b[0m\n\u001b[1;32m      1\u001b[0m \u001b[0mget_ipython\u001b[0m\u001b[1;33m(\u001b[0m\u001b[1;33m)\u001b[0m\u001b[1;33m.\u001b[0m\u001b[0mmagic\u001b[0m\u001b[1;33m(\u001b[0m\u001b[1;34m'matplotlib inline'\u001b[0m\u001b[1;33m)\u001b[0m\u001b[1;33m\u001b[0m\u001b[0m\n\u001b[0;32m----> 2\u001b[0;31m \u001b[1;32mimport\u001b[0m \u001b[0mutils\u001b[0m\u001b[1;33m;\u001b[0m \u001b[0mreload\u001b[0m\u001b[1;33m(\u001b[0m\u001b[0mutils\u001b[0m\u001b[1;33m)\u001b[0m\u001b[1;33m\u001b[0m\u001b[0m\n\u001b[0m\u001b[1;32m      3\u001b[0m \u001b[1;32mfrom\u001b[0m \u001b[0mutils\u001b[0m \u001b[1;32mimport\u001b[0m \u001b[1;33m*\u001b[0m\u001b[1;33m\u001b[0m\u001b[0m\n\u001b[1;32m      4\u001b[0m \u001b[1;32mfrom\u001b[0m \u001b[0m__future__\u001b[0m \u001b[1;32mimport\u001b[0m \u001b[0mdivision\u001b[0m\u001b[1;33m,\u001b[0m \u001b[0mprint_funtion\u001b[0m\u001b[1;33m\u001b[0m\u001b[0m\n",
      "\u001b[0;32mC:\\Users\\Administrator\\fast.ai\\utils.py\u001b[0m in \u001b[0;36m<module>\u001b[0;34m()\u001b[0m\n\u001b[1;32m      1\u001b[0m \u001b[1;32mfrom\u001b[0m \u001b[0m__future__\u001b[0m \u001b[1;32mimport\u001b[0m \u001b[0mdivision\u001b[0m\u001b[1;33m,\u001b[0m\u001b[0mprint_function\u001b[0m\u001b[1;33m\u001b[0m\u001b[0m\n\u001b[1;32m      2\u001b[0m \u001b[1;32mimport\u001b[0m \u001b[0mmath\u001b[0m\u001b[1;33m,\u001b[0m \u001b[0mos\u001b[0m\u001b[1;33m,\u001b[0m \u001b[0mjson\u001b[0m\u001b[1;33m,\u001b[0m \u001b[0msys\u001b[0m\u001b[1;33m,\u001b[0m \u001b[0mre\u001b[0m\u001b[1;33m\u001b[0m\u001b[0m\n\u001b[0;32m----> 3\u001b[0;31m \u001b[1;32mimport\u001b[0m \u001b[0mcPickle\u001b[0m \u001b[1;32mas\u001b[0m \u001b[0mpickle\u001b[0m\u001b[1;33m\u001b[0m\u001b[0m\n\u001b[0m\u001b[1;32m      4\u001b[0m \u001b[1;32mfrom\u001b[0m \u001b[0mglob\u001b[0m \u001b[1;32mimport\u001b[0m \u001b[0mglob\u001b[0m\u001b[1;33m\u001b[0m\u001b[0m\n\u001b[1;32m      5\u001b[0m \u001b[1;32mimport\u001b[0m \u001b[0mnumpy\u001b[0m \u001b[1;32mas\u001b[0m \u001b[0mnp\u001b[0m\u001b[1;33m\u001b[0m\u001b[0m\n",
      "\u001b[0;31mImportError\u001b[0m: No module named 'cPickle'"
     ]
    }
   ],
   "source": [
    "%matplotlib inline\n",
    "import utils; reload(utils)\n",
    "from utils import *\n",
    "from __future__ import division, print_funtion"
   ]
  },
  {
   "cell_type": "code",
   "execution_count": 2,
   "metadata": {
    "collapsed": true
   },
   "outputs": [],
   "source": [
    "import pandas as pd\n",
    "import numpy as np\n",
    "import os"
   ]
  },
  {
   "cell_type": "code",
   "execution_count": 3,
   "metadata": {
    "collapsed": false
   },
   "outputs": [],
   "source": [
    "path = 'F:/ml-latest-small/'\n",
    "model_path = path + 'model/'\n",
    "if not os.path.exists(model_path):\n",
    "    os.mkdir(model_path)"
   ]
  },
  {
   "cell_type": "code",
   "execution_count": 4,
   "metadata": {
    "collapsed": true
   },
   "outputs": [],
   "source": [
    "batch_size = 64"
   ]
  },
  {
   "cell_type": "markdown",
   "metadata": {},
   "source": [
    "## 设置数据集"
   ]
  },
  {
   "cell_type": "code",
   "execution_count": 5,
   "metadata": {
    "collapsed": false
   },
   "outputs": [
    {
     "data": {
      "text/html": [
       "<div>\n",
       "<table border=\"1\" class=\"dataframe\">\n",
       "  <thead>\n",
       "    <tr style=\"text-align: right;\">\n",
       "      <th></th>\n",
       "      <th>userId</th>\n",
       "      <th>movieId</th>\n",
       "      <th>rating</th>\n",
       "      <th>timestamp</th>\n",
       "    </tr>\n",
       "  </thead>\n",
       "  <tbody>\n",
       "    <tr>\n",
       "      <th>0</th>\n",
       "      <td>1</td>\n",
       "      <td>31</td>\n",
       "      <td>2.5</td>\n",
       "      <td>1260759144</td>\n",
       "    </tr>\n",
       "    <tr>\n",
       "      <th>1</th>\n",
       "      <td>1</td>\n",
       "      <td>1029</td>\n",
       "      <td>3.0</td>\n",
       "      <td>1260759179</td>\n",
       "    </tr>\n",
       "    <tr>\n",
       "      <th>2</th>\n",
       "      <td>1</td>\n",
       "      <td>1061</td>\n",
       "      <td>3.0</td>\n",
       "      <td>1260759182</td>\n",
       "    </tr>\n",
       "    <tr>\n",
       "      <th>3</th>\n",
       "      <td>1</td>\n",
       "      <td>1129</td>\n",
       "      <td>2.0</td>\n",
       "      <td>1260759185</td>\n",
       "    </tr>\n",
       "    <tr>\n",
       "      <th>4</th>\n",
       "      <td>1</td>\n",
       "      <td>1172</td>\n",
       "      <td>4.0</td>\n",
       "      <td>1260759205</td>\n",
       "    </tr>\n",
       "  </tbody>\n",
       "</table>\n",
       "</div>"
      ],
      "text/plain": [
       "   userId  movieId  rating   timestamp\n",
       "0       1       31     2.5  1260759144\n",
       "1       1     1029     3.0  1260759179\n",
       "2       1     1061     3.0  1260759182\n",
       "3       1     1129     2.0  1260759185\n",
       "4       1     1172     4.0  1260759205"
      ]
     },
     "execution_count": 5,
     "metadata": {},
     "output_type": "execute_result"
    }
   ],
   "source": [
    "ratings = pd.read_csv(path + 'ratings.csv')\n",
    "ratings.head()"
   ]
  },
  {
   "cell_type": "code",
   "execution_count": 6,
   "metadata": {
    "collapsed": false
   },
   "outputs": [
    {
     "data": {
      "text/plain": [
       "100004"
      ]
     },
     "execution_count": 6,
     "metadata": {},
     "output_type": "execute_result"
    }
   ],
   "source": [
    "len(ratings)"
   ]
  },
  {
   "cell_type": "code",
   "execution_count": 7,
   "metadata": {
    "collapsed": false,
    "scrolled": true
   },
   "outputs": [],
   "source": [
    "movie_names = pd.read_csv(path+ 'movies.csv').set_index('movieId')['title'].to_dict()"
   ]
  },
  {
   "cell_type": "code",
   "execution_count": 8,
   "metadata": {
    "collapsed": true
   },
   "outputs": [
    {
     "data": {
      "text/plain": [
       "movieId\n",
       "1                                          Toy Story (1995)\n",
       "2                                            Jumanji (1995)\n",
       "3                                   Grumpier Old Men (1995)\n",
       "4                                  Waiting to Exhale (1995)\n",
       "5                        Father of the Bride Part II (1995)\n",
       "6                                               Heat (1995)\n",
       "7                                            Sabrina (1995)\n",
       "8                                       Tom and Huck (1995)\n",
       "9                                       Sudden Death (1995)\n",
       "10                                         GoldenEye (1995)\n",
       "11                           American President, The (1995)\n",
       "12                       Dracula: Dead and Loving It (1995)\n",
       "13                                             Balto (1995)\n",
       "14                                             Nixon (1995)\n",
       "15                                  Cutthroat Island (1995)\n",
       "16                                            Casino (1995)\n",
       "17                             Sense and Sensibility (1995)\n",
       "18                                        Four Rooms (1995)\n",
       "19                    Ace Ventura: When Nature Calls (1995)\n",
       "20                                       Money Train (1995)\n",
       "21                                        Get Shorty (1995)\n",
       "22                                           Copycat (1995)\n",
       "23                                         Assassins (1995)\n",
       "24                                            Powder (1995)\n",
       "25                                 Leaving Las Vegas (1995)\n",
       "26                                           Othello (1995)\n",
       "27                                      Now and Then (1995)\n",
       "28                                        Persuasion (1995)\n",
       "29        City of Lost Children, The (Cité des enfants p...\n",
       "30        Shanghai Triad (Yao a yao yao dao waipo qiao) ...\n",
       "                                ...                        \n",
       "159690    Teenage Mutant Ninja Turtles: Out of the Shado...\n",
       "159755            Popstar: Never Stop Never Stopping (2016)\n",
       "159858                               The Conjuring 2 (2016)\n",
       "159972                       Approaching the Unknown (2016)\n",
       "160080                                  Ghostbusters (2016)\n",
       "160271                          Central Intelligence (2016)\n",
       "160438                                  Jason Bourne (2016)\n",
       "160440                               The Maid's Room (2014)\n",
       "160563                          The Legend of Tarzan (2016)\n",
       "160565                      The Purge: Election Year (2016)\n",
       "160567                Mike & Dave Need Wedding Dates (2016)\n",
       "160590                           Survive and Advance (2013)\n",
       "160656                                      Tallulah (2016)\n",
       "160718                                         Piper (2016)\n",
       "160954                                         Nerve (2016)\n",
       "161084                         My Friend Rockefeller (2015)\n",
       "161155                                     Sunspring (2016)\n",
       "161336                    Author: The JT LeRoy Story (2016)\n",
       "161582                            Hell or High Water (2016)\n",
       "161594                 Kingsglaive: Final Fantasy XV (2016)\n",
       "161830                                          Body (2015)\n",
       "161918                  Sharknado 4: The 4th Awakens (2016)\n",
       "161944                The Last Brickmaker in America (2001)\n",
       "162376                                      Stranger Things\n",
       "162542                                        Rustom (2016)\n",
       "162672                                  Mohenjo Daro (2016)\n",
       "163056                                 Shin Godzilla (2016)\n",
       "163949    The Beatles: Eight Days a Week - The Touring Y...\n",
       "164977                             The Gay Desperado (1936)\n",
       "164979                                Women of '69, Unboxed\n",
       "Name: title, dtype: object"
      ]
     },
     "execution_count": 8,
     "metadata": {},
     "output_type": "execute_result"
    }
   ],
   "source": [
    "pd.read_csv(path+ 'movies.csv').set_index('movieId')['title']"
   ]
  },
  {
   "cell_type": "code",
   "execution_count": 9,
   "metadata": {
    "collapsed": true
   },
   "outputs": [
    {
     "data": {
      "text/plain": [
       "{1: 'Toy Story (1995)',\n",
       " 2: 'Jumanji (1995)',\n",
       " 3: 'Grumpier Old Men (1995)',\n",
       " 4: 'Waiting to Exhale (1995)',\n",
       " 5: 'Father of the Bride Part II (1995)',\n",
       " 6: 'Heat (1995)',\n",
       " 7: 'Sabrina (1995)',\n",
       " 8: 'Tom and Huck (1995)',\n",
       " 9: 'Sudden Death (1995)',\n",
       " 10: 'GoldenEye (1995)',\n",
       " 11: 'American President, The (1995)',\n",
       " 12: 'Dracula: Dead and Loving It (1995)',\n",
       " 13: 'Balto (1995)',\n",
       " 14: 'Nixon (1995)',\n",
       " 15: 'Cutthroat Island (1995)',\n",
       " 16: 'Casino (1995)',\n",
       " 17: 'Sense and Sensibility (1995)',\n",
       " 18: 'Four Rooms (1995)',\n",
       " 19: 'Ace Ventura: When Nature Calls (1995)',\n",
       " 20: 'Money Train (1995)',\n",
       " 21: 'Get Shorty (1995)',\n",
       " 22: 'Copycat (1995)',\n",
       " 23: 'Assassins (1995)',\n",
       " 24: 'Powder (1995)',\n",
       " 25: 'Leaving Las Vegas (1995)',\n",
       " 26: 'Othello (1995)',\n",
       " 27: 'Now and Then (1995)',\n",
       " 28: 'Persuasion (1995)',\n",
       " 29: 'City of Lost Children, The (Cité des enfants perdus, La) (1995)',\n",
       " 30: 'Shanghai Triad (Yao a yao yao dao waipo qiao) (1995)',\n",
       " 31: 'Dangerous Minds (1995)',\n",
       " 32: 'Twelve Monkeys (a.k.a. 12 Monkeys) (1995)',\n",
       " 34: 'Babe (1995)',\n",
       " 35: 'Carrington (1995)',\n",
       " 36: 'Dead Man Walking (1995)',\n",
       " 37: 'Across the Sea of Time (1995)',\n",
       " 38: 'It Takes Two (1995)',\n",
       " 39: 'Clueless (1995)',\n",
       " 40: 'Cry, the Beloved Country (1995)',\n",
       " 41: 'Richard III (1995)',\n",
       " 42: 'Dead Presidents (1995)',\n",
       " 43: 'Restoration (1995)',\n",
       " 44: 'Mortal Kombat (1995)',\n",
       " 45: 'To Die For (1995)',\n",
       " 46: 'How to Make an American Quilt (1995)',\n",
       " 47: 'Seven (a.k.a. Se7en) (1995)',\n",
       " 48: 'Pocahontas (1995)',\n",
       " 49: 'When Night Is Falling (1995)',\n",
       " 50: 'Usual Suspects, The (1995)',\n",
       " 52: 'Mighty Aphrodite (1995)',\n",
       " 53: 'Lamerica (1994)',\n",
       " 54: 'Big Green, The (1995)',\n",
       " 55: 'Georgia (1995)',\n",
       " 57: 'Home for the Holidays (1995)',\n",
       " 58: 'Postman, The (Postino, Il) (1994)',\n",
       " 59: 'Confessional, The (Confessionnal, Le) (1995)',\n",
       " 60: 'Indian in the Cupboard, The (1995)',\n",
       " 61: 'Eye for an Eye (1996)',\n",
       " 62: \"Mr. Holland's Opus (1995)\",\n",
       " 63: \"Don't Be a Menace to South Central While Drinking Your Juice in the Hood (1996)\",\n",
       " 64: 'Two if by Sea (1996)',\n",
       " 65: 'Bio-Dome (1996)',\n",
       " 66: 'Lawnmower Man 2: Beyond Cyberspace (1996)',\n",
       " 68: 'French Twist (Gazon maudit) (1995)',\n",
       " 69: 'Friday (1995)',\n",
       " 70: 'From Dusk Till Dawn (1996)',\n",
       " 71: 'Fair Game (1995)',\n",
       " 72: 'Kicking and Screaming (1995)',\n",
       " 73: 'Misérables, Les (1995)',\n",
       " 74: 'Bed of Roses (1996)',\n",
       " 76: 'Screamers (1995)',\n",
       " 77: 'Nico Icon (1995)',\n",
       " 78: 'Crossing Guard, The (1995)',\n",
       " 79: 'Juror, The (1996)',\n",
       " 80: 'White Balloon, The (Badkonake sefid) (1995)',\n",
       " 81: \"Things to Do in Denver When You're Dead (1995)\",\n",
       " 82: \"Antonia's Line (Antonia) (1995)\",\n",
       " 83: 'Once Upon a Time... When We Were Colored (1995)',\n",
       " 84: 'Last Summer in the Hamptons (1995)',\n",
       " 85: 'Angels and Insects (1995)',\n",
       " 86: 'White Squall (1996)',\n",
       " 87: 'Dunston Checks In (1996)',\n",
       " 88: 'Black Sheep (1996)',\n",
       " 89: 'Nick of Time (1995)',\n",
       " 92: 'Mary Reilly (1996)',\n",
       " 93: 'Vampire in Brooklyn (1995)',\n",
       " 94: 'Beautiful Girls (1996)',\n",
       " 95: 'Broken Arrow (1996)',\n",
       " 96: 'In the Bleak Midwinter (1995)',\n",
       " 97: 'Hate (Haine, La) (1995)',\n",
       " 98: 'Shopping (1994)',\n",
       " 99: 'Heidi Fleiss: Hollywood Madam (1995)',\n",
       " 100: 'City Hall (1996)',\n",
       " 101: 'Bottle Rocket (1996)',\n",
       " 102: 'Mr. Wrong (1996)',\n",
       " 103: 'Unforgettable (1996)',\n",
       " 104: 'Happy Gilmore (1996)',\n",
       " 105: 'Bridges of Madison County, The (1995)',\n",
       " 65577: 'Tale of Despereaux, The (2008)',\n",
       " 107: 'Muppet Treasure Island (1996)',\n",
       " 108: 'Catwalk (1996)',\n",
       " 163949: 'The Beatles: Eight Days a Week - The Touring Years (2016)',\n",
       " 110: 'Braveheart (1995)',\n",
       " 111: 'Taxi Driver (1976)',\n",
       " 112: 'Rumble in the Bronx (Hont faan kui) (1995)',\n",
       " 113: 'Before and After (1996)',\n",
       " 114: \"Margaret's Museum (1995)\",\n",
       " 82035: \"Cocaine Cowboys II: Hustlin' With the Godmother (2008)\",\n",
       " 116: 'Anne Frank Remembered (1995)',\n",
       " 117: \"Young Poisoner's Handbook, The (1995)\",\n",
       " 118: 'If Lucy Fell (1996)',\n",
       " 119: 'Steal Big, Steal Little (1995)',\n",
       " 49272: 'Casino Royale (2006)',\n",
       " 121: 'Boys of St. Vincent, The (1992)',\n",
       " 122: 'Boomerang (1992)',\n",
       " 123: 'Chungking Express (Chung Hing sam lam) (1994)',\n",
       " 124: \"Star Maker, The (Uomo delle stelle, L') (1995)\",\n",
       " 125: 'Flirting With Disaster (1996)',\n",
       " 126: 'NeverEnding Story III, The (1994)',\n",
       " 49280: 'Bobby (2006)',\n",
       " 129: 'Pie in the Sky (1996)',\n",
       " 130: 'Angela (1995)',\n",
       " 131: 'Frankie Starlight (1995)',\n",
       " 132: 'Jade (1995)',\n",
       " 49286: 'Holiday, The (2006)',\n",
       " 135: 'Down Periscope (1996)',\n",
       " 137: 'Man of the Year (1995)',\n",
       " 140: 'Up Close and Personal (1996)',\n",
       " 141: 'Birdcage, The (1996)',\n",
       " 49651: 'Rocky Balboa (2006)',\n",
       " 144: 'Brothers McMullen, The (1995)',\n",
       " 145: 'Bad Boys (1995)',\n",
       " 146: 'Amazing Panda Adventure, The (1995)',\n",
       " 147: 'Basketball Diaries, The (1995)',\n",
       " 148: 'Awfully Big Adventure, An (1995)',\n",
       " 149: 'Amateur (1994)',\n",
       " 150: 'Apollo 13 (1995)',\n",
       " 151: 'Rob Roy (1995)',\n",
       " 152: 'Addiction, The (1995)',\n",
       " 153: 'Batman Forever (1995)',\n",
       " 154: 'Beauty of the Day (Belle de jour) (1967)',\n",
       " 155: 'Beyond Rangoon (1995)',\n",
       " 156: 'Blue in the Face (1995)',\n",
       " 157: 'Canadian Bacon (1995)',\n",
       " 158: 'Casper (1995)',\n",
       " 159: 'Clockers (1995)',\n",
       " 160: 'Congo (1995)',\n",
       " 161: 'Crimson Tide (1995)',\n",
       " 162: 'Crumb (1994)',\n",
       " 163: 'Desperado (1995)',\n",
       " 164: 'Devil in a Blue Dress (1995)',\n",
       " 165: 'Die Hard: With a Vengeance (1995)',\n",
       " 166: 'Doom Generation, The (1995)',\n",
       " 167: 'Feast of July (1995)',\n",
       " 168: 'First Knight (1995)',\n",
       " 169: 'Free Willy 2: The Adventure Home (1995)',\n",
       " 170: 'Hackers (1995)',\n",
       " 171: 'Jeffrey (1995)',\n",
       " 172: 'Johnny Mnemonic (1995)',\n",
       " 173: 'Judge Dredd (1995)',\n",
       " 174: 'Jury Duty (1995)',\n",
       " 175: 'Kids (1995)',\n",
       " 176: 'Living in Oblivion (1995)',\n",
       " 177: 'Lord of Illusions (1995)',\n",
       " 178: 'Love & Human Remains (1993)',\n",
       " 179: 'Mad Love (1995)',\n",
       " 180: 'Mallrats (1995)',\n",
       " 181: 'Mighty Morphin Power Rangers: The Movie (1995)',\n",
       " 183: 'Mute Witness (1994)',\n",
       " 184: 'Nadja (1994)',\n",
       " 185: 'Net, The (1995)',\n",
       " 186: 'Nine Months (1995)',\n",
       " 187: 'Party Girl (1995)',\n",
       " 188: 'Prophecy, The (1995)',\n",
       " 189: 'Reckless (1995)',\n",
       " 190: 'Safe (1995)',\n",
       " 191: 'Scarlet Letter, The (1995)',\n",
       " 193: 'Showgirls (1995)',\n",
       " 194: 'Smoke (1995)',\n",
       " 195: 'Something to Talk About (1995)',\n",
       " 196: 'Species (1995)',\n",
       " 198: 'Strange Days (1995)',\n",
       " 199: 'Umbrellas of Cherbourg, The (Parapluies de Cherbourg, Les) (1964)',\n",
       " 200: 'Tie That Binds, The (1995)',\n",
       " 201: 'Three Wishes (1995)',\n",
       " 202: 'Total Eclipse (1995)',\n",
       " 203: 'To Wong Foo, Thanks for Everything! Julie Newmar (1995)',\n",
       " 204: 'Under Siege 2: Dark Territory (1995)',\n",
       " 205: 'Unstrung Heroes (1995)',\n",
       " 206: 'Unzipped (1995)',\n",
       " 207: 'Walk in the Clouds, A (1995)',\n",
       " 208: 'Waterworld (1995)',\n",
       " 209: \"White Man's Burden (1995)\",\n",
       " 211: 'Browning Version, The (1994)',\n",
       " 213: 'Burnt by the Sun (Utomlyonnye solntsem) (1994)',\n",
       " 214: 'Before the Rain (Pred dozhdot) (1994)',\n",
       " 215: 'Before Sunrise (1995)',\n",
       " 216: 'Billy Madison (1995)',\n",
       " 217: 'Babysitter, The (1995)',\n",
       " 218: 'Boys on the Side (1995)',\n",
       " 219: 'Cure, The (1995)',\n",
       " 220: 'Castle Freak (1995)',\n",
       " 222: 'Circle of Friends (1995)',\n",
       " 223: 'Clerks (1994)',\n",
       " 224: 'Don Juan DeMarco (1995)',\n",
       " 225: 'Disclosure (1994)',\n",
       " 227: 'Drop Zone (1994)',\n",
       " 228: 'Destiny Turns on the Radio (1995)',\n",
       " 229: 'Death and the Maiden (1994)',\n",
       " 230: 'Dolores Claiborne (1995)',\n",
       " 231: 'Dumb & Dumber (Dumb and Dumber) (1994)',\n",
       " 232: 'Eat Drink Man Woman (Yin shi nan nu) (1994)',\n",
       " 233: 'Exotica (1994)',\n",
       " 234: 'Exit to Eden (1994)',\n",
       " 235: 'Ed Wood (1994)',\n",
       " 236: 'French Kiss (1995)',\n",
       " 237: 'Forget Paris (1995)',\n",
       " 238: 'Far From Home: The Adventures of Yellow Dog (1995)',\n",
       " 239: 'Goofy Movie, A (1995)',\n",
       " 240: 'Hideaway (1995)',\n",
       " 241: 'Fluke (1995)',\n",
       " 242: 'Farinelli: il castrato (1994)',\n",
       " 243: 'Gordy (1995)',\n",
       " 244: 'Gumby: The Movie (1995)',\n",
       " 245: 'The Glass Shield (1994)',\n",
       " 246: 'Hoop Dreams (1994)',\n",
       " 247: 'Heavenly Creatures (1994)',\n",
       " 248: 'Houseguest (1994)',\n",
       " 249: 'Immortal Beloved (1994)',\n",
       " 250: 'Heavyweights (Heavy Weights) (1995)',\n",
       " 251: 'Hunted, The (1995)',\n",
       " 252: 'I.Q. (1994)',\n",
       " 253: 'Interview with the Vampire: The Vampire Chronicles (1994)',\n",
       " 254: 'Jefferson in Paris (1995)',\n",
       " 255: 'Jerky Boys, The (1995)',\n",
       " 256: 'Junior (1994)',\n",
       " 257: 'Just Cause (1995)',\n",
       " 258: \"Kid in King Arthur's Court, A (1995)\",\n",
       " 259: 'Kiss of Death (1995)',\n",
       " 260: 'Star Wars: Episode IV - A New Hope (1977)',\n",
       " 261: 'Little Women (1994)',\n",
       " 262: 'Little Princess, A (1995)',\n",
       " 263: 'Ladybird Ladybird (1994)',\n",
       " 264: \"Enfer, L' (1994)\",\n",
       " 265: 'Like Water for Chocolate (Como agua para chocolate) (1992)',\n",
       " 266: 'Legends of the Fall (1994)',\n",
       " 267: 'Major Payne (1995)',\n",
       " 268: 'Little Odessa (1994)',\n",
       " 269: 'My Crazy Life (Mi vida loca) (1993)',\n",
       " 270: 'Love Affair (1994)',\n",
       " 271: 'Losing Isaiah (1995)',\n",
       " 272: 'Madness of King George, The (1994)',\n",
       " 273: \"Mary Shelley's Frankenstein (Frankenstein) (1994)\",\n",
       " 274: 'Man of the House (1995)',\n",
       " 275: 'Mixed Nuts (1994)',\n",
       " 276: 'Milk Money (1994)',\n",
       " 277: 'Miracle on 34th Street (1994)',\n",
       " 278: 'Miami Rhapsody (1995)',\n",
       " 279: 'My Family (1995)',\n",
       " 280: 'Murder in the First (1995)',\n",
       " 281: \"Nobody's Fool (1994)\",\n",
       " 282: 'Nell (1994)',\n",
       " 283: 'New Jersey Drive (1995)',\n",
       " 285: 'Beyond Bedlam (1993)',\n",
       " 287: 'Nina Takes a Lover (1994)',\n",
       " 288: 'Natural Born Killers (1994)',\n",
       " 289: 'Only You (1994)',\n",
       " 290: 'Once Were Warriors (1994)',\n",
       " 291: 'Poison Ivy II (1996)',\n",
       " 292: 'Outbreak (1995)',\n",
       " 293: 'Léon: The Professional (a.k.a. The Professional) (Léon) (1994)',\n",
       " 294: 'Perez Family, The (1995)',\n",
       " 295: \"Pyromaniac's Love Story, A (1995)\",\n",
       " 296: 'Pulp Fiction (1994)',\n",
       " 299: 'Priest (1994)',\n",
       " 300: 'Quiz Show (1994)',\n",
       " 301: 'Picture Bride (Bijo photo) (1994)',\n",
       " 302: 'Queen Margot (Reine Margot, La) (1994)',\n",
       " 303: 'Quick and the Dead, The (1995)',\n",
       " 304: 'Roommates (1995)',\n",
       " 305: 'Ready to Wear (Pret-A-Porter) (1994)',\n",
       " 306: 'Three Colors: Red (Trois couleurs: Rouge) (1994)',\n",
       " 307: 'Three Colors: Blue (Trois couleurs: Bleu) (1993)',\n",
       " 308: 'Three Colors: White (Trzy kolory: Bialy) (1994)',\n",
       " 309: 'Red Firecracker, Green Firecracker (Pao Da Shuang Deng) (1994)',\n",
       " 98615: 'Burn Up! (1991)',\n",
       " 312: 'Stuart Saves His Family (1995)',\n",
       " 313: 'Swan Princess, The (1994)',\n",
       " 314: 'Secret of Roan Inish, The (1994)',\n",
       " 315: 'Specialist, The (1994)',\n",
       " 316: 'Stargate (1994)',\n",
       " 317: 'Santa Clause, The (1994)',\n",
       " 318: 'Shawshank Redemption, The (1994)',\n",
       " 319: 'Shallow Grave (1994)',\n",
       " 320: 'Suture (1993)',\n",
       " 321: 'Strawberry and Chocolate (Fresa y chocolate) (1993)',\n",
       " 322: 'Swimming with Sharks (1995)',\n",
       " 103819: 'Coffee Town (2013)',\n",
       " 324: 'Sum of Us, The (1994)',\n",
       " 325: \"National Lampoon's Senior Trip (1995)\",\n",
       " 326: 'To Live (Huozhe) (1994)',\n",
       " 327: 'Tank Girl (1995)',\n",
       " 328: 'Tales from the Crypt Presents: Demon Knight (1995)',\n",
       " 329: 'Star Trek: Generations (1994)',\n",
       " 330: 'Tales from the Hood (1995)',\n",
       " 331: 'Tom & Viv (1994)',\n",
       " 332: 'Village of the Damned (1995)',\n",
       " 333: 'Tommy Boy (1995)',\n",
       " 334: 'Vanya on 42nd Street (1994)',\n",
       " 335: 'Underneath (1995)',\n",
       " 336: 'Walking Dead, The (1995)',\n",
       " 337: \"What's Eating Gilbert Grape (1993)\",\n",
       " 338: 'Virtuosity (1995)',\n",
       " 339: 'While You Were Sleeping (1995)',\n",
       " 340: 'War, The (1994)',\n",
       " 341: 'Double Happiness (1994)',\n",
       " 342: \"Muriel's Wedding (1994)\",\n",
       " 343: 'Baby-Sitters Club, The (1995)',\n",
       " 344: 'Ace Ventura: Pet Detective (1994)',\n",
       " 345: 'Adventures of Priscilla, Queen of the Desert, The (1994)',\n",
       " 346: 'Backbeat (1993)',\n",
       " 347: 'Bitter Moon (1992)',\n",
       " 348: 'Bullets Over Broadway (1994)',\n",
       " 349: 'Clear and Present Danger (1994)',\n",
       " 350: 'Client, The (1994)',\n",
       " 351: 'Corrina, Corrina (1994)',\n",
       " 352: 'Crooklyn (1994)',\n",
       " 353: 'Crow, The (1994)',\n",
       " 354: 'Cobb (1994)',\n",
       " 355: 'Flintstones, The (1994)',\n",
       " 356: 'Forrest Gump (1994)',\n",
       " 357: 'Four Weddings and a Funeral (1994)',\n",
       " 358: 'Higher Learning (1995)',\n",
       " 71057: '9 (2009)',\n",
       " 360: 'I Love Trouble (1994)',\n",
       " 361: 'It Could Happen to You (1994)',\n",
       " 362: 'Jungle Book, The (1994)',\n",
       " 363: 'Wonderful, Horrible Life of Leni Riefenstahl, The (Macht der Bilder: Leni Riefenstahl, Die) (1993)',\n",
       " 364: 'Lion King, The (1994)',\n",
       " 365: 'Little Buddha (1993)',\n",
       " 366: \"Wes Craven's New Nightmare (Nightmare on Elm Street Part 7: Freddy's Finale, A) (1994)\",\n",
       " 367: 'Mask, The (1994)',\n",
       " 368: 'Maverick (1994)',\n",
       " 369: 'Mrs. Parker and the Vicious Circle (1994)',\n",
       " 370: 'Naked Gun 33 1/3: The Final Insult (1994)',\n",
       " 371: 'Paper, The (1994)',\n",
       " 372: 'Reality Bites (1994)',\n",
       " 373: 'Red Rock West (1992)',\n",
       " 374: 'Richie Rich (1994)',\n",
       " 375: 'Safe Passage (1994)',\n",
       " 376: 'River Wild, The (1994)',\n",
       " 377: 'Speed (1994)',\n",
       " 378: 'Speechless (1994)',\n",
       " 379: 'Timecop (1994)',\n",
       " 380: 'True Lies (1994)',\n",
       " 381: 'When a Man Loves a Woman (1994)',\n",
       " 382: 'Wolf (1994)',\n",
       " 383: 'Wyatt Earp (1994)',\n",
       " 384: 'Bad Company (1995)',\n",
       " 33154: 'Enron: The Smartest Guys in the Room (2005)',\n",
       " 387: 'Low Down Dirty Shame, A (1994)',\n",
       " 388: 'Boys Life (1995)',\n",
       " 389: 'Colonel Chabert, Le (1994)',\n",
       " 390: 'Faster Pussycat! Kill! Kill! (1965)',\n",
       " 391: \"Jason's Lyric (1994)\",\n",
       " 392: 'Secret Adventures of Tom Thumb, The (1993)',\n",
       " 393: 'Street Fighter (1994)',\n",
       " 33162: 'Kingdom of Heaven (2005)',\n",
       " 33164: 'House of Wax (2005)',\n",
       " 33166: 'Crash (2004)',\n",
       " 401: 'Mirage (1995)',\n",
       " 33171: 'Mysterious Skin (2004)',\n",
       " 405: 'Highlander III: The Sorcerer (a.k.a. Highlander: The Final Dimension) (1994)',\n",
       " 407: 'In the Mouth of Madness (1995)',\n",
       " 408: '8 Seconds (1994)',\n",
       " 409: 'Above the Rim (1994)',\n",
       " 410: 'Addams Family Values (1993)',\n",
       " 412: 'Age of Innocence, The (1993)',\n",
       " 413: 'Airheads (1994)',\n",
       " 414: 'Air Up There, The (1994)',\n",
       " 415: 'Another Stakeout (1993)',\n",
       " 416: 'Bad Girls (1994)',\n",
       " 417: 'Barcelona (1994)',\n",
       " 418: 'Being Human (1993)',\n",
       " 419: 'Beverly Hillbillies, The (1993)',\n",
       " 420: 'Beverly Hills Cop III (1994)',\n",
       " 421: 'Black Beauty (1994)',\n",
       " 422: 'Blink (1994)',\n",
       " 423: 'Blown Away (1994)',\n",
       " 424: 'Blue Chips (1994)',\n",
       " 425: 'Blue Sky (1994)',\n",
       " 426: 'Body Snatchers (1993)',\n",
       " 427: 'Boxing Helena (1993)',\n",
       " 428: 'Bronx Tale, A (1993)',\n",
       " 429: 'Cabin Boy (1994)',\n",
       " 431: \"Carlito's Way (1993)\",\n",
       " 432: \"City Slickers II: The Legend of Curly's Gold (1994)\",\n",
       " 433: 'Clean Slate (1994)',\n",
       " 434: 'Cliffhanger (1993)',\n",
       " 435: 'Coneheads (1993)',\n",
       " 436: 'Color of Night (1994)',\n",
       " 437: 'Cops and Robbersons (1994)',\n",
       " 438: 'Cowboy Way, The (1994)',\n",
       " 439: 'Dangerous Game (1993)',\n",
       " 440: 'Dave (1993)',\n",
       " 441: 'Dazed and Confused (1993)',\n",
       " 442: 'Demolition Man (1993)',\n",
       " 443: 'Endless Summer 2, The (1994)',\n",
       " 444: 'Even Cowgirls Get the Blues (1993)',\n",
       " 445: 'Fatal Instinct (1993)',\n",
       " 446: 'Farewell My Concubine (Ba wang bie ji) (1993)',\n",
       " 447: 'Favor, The (1994)',\n",
       " 448: 'Fearless (1993)',\n",
       " 449: 'Fear of a Black Hat (1994)',\n",
       " 450: 'With Honors (1994)',\n",
       " 451: 'Flesh and Bone (1993)',\n",
       " 452: \"Widows' Peak (1994)\",\n",
       " 453: 'For Love or Money (1993)',\n",
       " 454: 'Firm, The (1993)',\n",
       " 455: 'Free Willy (1993)',\n",
       " 456: 'Fresh (1994)',\n",
       " 457: 'Fugitive, The (1993)',\n",
       " 458: 'Geronimo: An American Legend (1993)',\n",
       " 459: 'Getaway, The (1994)',\n",
       " 460: 'Getting Even with Dad (1994)',\n",
       " 461: 'Go Fish (1994)',\n",
       " 463: 'Guilty as Sin (1993)',\n",
       " 464: 'Hard Target (1993)',\n",
       " 465: 'Heaven & Earth (1993)',\n",
       " 466: 'Hot Shots! Part Deux (1993)',\n",
       " 467: 'Live Nude Girls (1995)',\n",
       " 468: 'Englishman Who Went Up a Hill But Came Down a Mountain, The (1995)',\n",
       " 469: 'House of the Spirits, The (1993)',\n",
       " 470: 'House Party 3 (1994)',\n",
       " 471: 'Hudsucker Proxy, The (1994)',\n",
       " 472: \"I'll Do Anything (1994)\",\n",
       " 473: 'In the Army Now (1994)',\n",
       " 474: 'In the Line of Fire (1993)',\n",
       " 475: 'In the Name of the Father (1993)',\n",
       " 476: 'Inkwell, The (1994)',\n",
       " 477: \"What's Love Got to Do with It? (1993)\",\n",
       " 479: 'Judgment Night (1993)',\n",
       " 480: 'Jurassic Park (1993)',\n",
       " 481: 'Kalifornia (1993)',\n",
       " 482: 'Killing Zoe (1994)',\n",
       " 483: 'King of the Hill (1993)',\n",
       " 484: 'Lassie (1994)',\n",
       " 485: 'Last Action Hero (1993)',\n",
       " 486: 'Life with Mikey (1993)',\n",
       " 487: 'Lightning Jack (1994)',\n",
       " 488: 'M. Butterfly (1993)',\n",
       " 489: 'Made in America (1993)',\n",
       " 490: 'Malice (1993)',\n",
       " 491: 'Man Without a Face, The (1993)',\n",
       " 492: 'Manhattan Murder Mystery (1993)',\n",
       " 493: 'Menace II Society (1993)',\n",
       " 494: 'Executive Decision (1996)',\n",
       " 495: 'In the Realm of the Senses (Ai no corrida) (1976)',\n",
       " 496: 'What Happened Was... (1994)',\n",
       " 497: 'Much Ado About Nothing (1993)',\n",
       " 498: 'Mr. Jones (1993)',\n",
       " 499: 'Mr. Wonderful (1993)',\n",
       " 500: 'Mrs. Doubtfire (1993)',\n",
       " 501: 'Naked (1993)',\n",
       " 502: 'Next Karate Kid, The (1994)',\n",
       " 504: 'No Escape (1994)',\n",
       " 505: 'North (1994)',\n",
       " 506: 'Orlando (1992)',\n",
       " 507: 'Perfect World, A (1993)',\n",
       " 508: 'Philadelphia (1993)',\n",
       " 509: 'Piano, The (1993)',\n",
       " 510: 'Poetic Justice (1993)',\n",
       " 511: 'Program, The (1993)',\n",
       " 512: 'Puppet Masters, The (1994)',\n",
       " 513: 'Radioland Murders (1994)',\n",
       " 514: 'Ref, The (1994)',\n",
       " 515: 'Remains of the Day, The (1993)',\n",
       " 516: 'Renaissance Man (1994)',\n",
       " 517: 'Rising Sun (1993)',\n",
       " 518: 'Road to Wellville, The (1994)',\n",
       " 519: 'RoboCop 3 (1993)',\n",
       " 520: 'Robin Hood: Men in Tights (1993)',\n",
       " 521: 'Romeo Is Bleeding (1993)',\n",
       " 522: 'Romper Stomper (1992)',\n",
       " 523: 'Ruby in Paradise (1993)',\n",
       " 524: 'Rudy (1993)',\n",
       " 98829: 'Evil Cult, The (Lord of the Wu Tang) (Yi tian tu long ji: Zhi mo jiao jiao zhu) (1993)',\n",
       " 526: 'Savage Nights (Nuits fauves, Les) (1992)',\n",
       " 527: \"Schindler's List (1993)\",\n",
       " 528: 'Scout, The (1994)',\n",
       " 529: 'Searching for Bobby Fischer (1993)',\n",
       " 66066: 'Grudge 3, The (2009)',\n",
       " 531: 'Secret Garden, The (1993)',\n",
       " 532: 'Serial Mom (1994)',\n",
       " 533: 'Shadow, The (1994)',\n",
       " 534: 'Shadowlands (1993)',\n",
       " 535: 'Short Cuts (1993)',\n",
       " 536: 'Simple Twist of Fate, A (1994)',\n",
       " 537: 'Sirens (1994)',\n",
       " 538: 'Six Degrees of Separation (1993)',\n",
       " 539: 'Sleepless in Seattle (1993)',\n",
       " 540: 'Sliver (1993)',\n",
       " 541: 'Blade Runner (1982)',\n",
       " 542: 'Son in Law (1993)',\n",
       " 543: 'So I Married an Axe Murderer (1993)',\n",
       " 544: 'Striking Distance (1993)',\n",
       " 546: 'Super Mario Bros. (1993)',\n",
       " 547: 'Surviving the Game (1994)',\n",
       " 548: 'Terminal Velocity (1994)',\n",
       " 549: 'Thirty-Two Short Films About Glenn Gould (1993)',\n",
       " 550: 'Threesome (1994)',\n",
       " 551: 'Nightmare Before Christmas, The (1993)',\n",
       " 552: 'Three Musketeers, The (1993)',\n",
       " 553: 'Tombstone (1993)',\n",
       " 554: 'Trial by Jury (1994)',\n",
       " 555: 'True Romance (1993)',\n",
       " 556: 'War Room, The (1993)',\n",
       " 558: 'Pagemaster, The (1994)',\n",
       " 559: 'Paris, France (1993)',\n",
       " 561: 'Killer (Bulletproof Heart) (1994)',\n",
       " 562: 'Welcome to the Dollhouse (1995)',\n",
       " 563: 'Germinal (1993)',\n",
       " 564: 'Chasers (1994)',\n",
       " 565: 'Cronos (1993)',\n",
       " 567: 'Kika (1993)',\n",
       " 568: 'Bhaji on the Beach (1993)',\n",
       " 569: 'Little Big League (1994)',\n",
       " 571: 'Wedding Gift, The (1994)',\n",
       " 573: 'Ciao, Professore! (Io speriamo che me la cavo) (1992)',\n",
       " 574: 'Spanking the Monkey (1994)',\n",
       " 575: 'Little Rascals, The (1994)',\n",
       " 103810: 'Red 2 (2013)',\n",
       " 577: 'Andre (1994)',\n",
       " 82499: 'How Do You Know (2010)',\n",
       " 580: 'Princess Caraboo (1994)',\n",
       " 581: 'Celluloid Closet, The (1995)',\n",
       " 582: 'Métisse (Café au Lait) (1993)',\n",
       " 69306: 'Taking of Pelham 1 2 3, The (2009)',\n",
       " 585: 'Brady Bunch Movie, The (1995)',\n",
       " 586: 'Home Alone (1990)',\n",
       " 587: 'Ghost (1990)',\n",
       " 588: 'Aladdin (1992)',\n",
       " 589: 'Terminator 2: Judgment Day (1991)',\n",
       " 590: 'Dances with Wolves (1990)',\n",
       " 592: 'Batman (1989)',\n",
       " 593: 'Silence of the Lambs, The (1991)',\n",
       " 594: 'Snow White and the Seven Dwarfs (1937)',\n",
       " 595: 'Beauty and the Beast (1991)',\n",
       " 596: 'Pinocchio (1940)',\n",
       " 597: 'Pretty Woman (1990)',\n",
       " 102217: 'Bill Hicks: Revelations (1993)',\n",
       " 599: 'Wild Bunch, The (1969)',\n",
       " 600: 'Love and a .45 (1994)',\n",
       " 99296: 'Would You Rather (2012)',\n",
       " 603: 'Bye Bye, Love (1995)',\n",
       " 98908: 'How to Make Love to a Woman (2010)',\n",
       " 605: 'One Fine Day (1996)',\n",
       " 606: 'Candyman: Farewell to the Flesh (1995)',\n",
       " 82527: \"Barney's Version (2010)\",\n",
       " 608: 'Fargo (1996)',\n",
       " 609: 'Homeward Bound II: Lost in San Francisco (1996)',\n",
       " 610: 'Heavy Metal (1981)',\n",
       " 611: 'Hellraiser: Bloodline (1996)',\n",
       " 612: 'Pallbearer, The (1996)',\n",
       " 613: 'Jane Eyre (1996)',\n",
       " 614: 'Loaded (1994)',\n",
       " 615: 'Bread and Chocolate (Pane e cioccolata) (1973)',\n",
       " 616: 'Aristocats, The (1970)',\n",
       " 617: 'Flower of My Secret, The (La flor de mi secreto) (1995)',\n",
       " 619: 'Ed (1996)',\n",
       " 620: 'Scream of Stone (Cerro Torre: Schrei aus Stein) (1991)',\n",
       " 621: 'My Favorite Season (1993)',\n",
       " 52950: 'Day Watch (Dnevnoy dozor) (2006)',\n",
       " 626: 'Thin Line Between Love and Hate, A (1996)',\n",
       " 627: 'Last Supper, The (1995)',\n",
       " 628: 'Primal Fear (1996)',\n",
       " 98933: 'Yossi (Ha-Sippur Shel Yossi) (2012)',\n",
       " 630: 'Carried Away (1996)',\n",
       " 631: 'All Dogs Go to Heaven 2 (1996)',\n",
       " 632: 'Land and Freedom (Tierra y libertad) (1995)',\n",
       " 633: 'Denise Calls Up (1995)',\n",
       " 635: 'Family Thing, A (1996)',\n",
       " 637: 'Sgt. Bilko (1996)',\n",
       " 638: 'Jack and Sarah (1995)',\n",
       " 639: 'Girl 6 (1996)',\n",
       " 640: 'Diabolique (1996)',\n",
       " 131714: 'Last Knights (2015)',\n",
       " 114795: 'Dracula Untold (2014)',\n",
       " 103984: 'Great Beauty, The (Grande Bellezza, La) (2013)',\n",
       " 647: 'Courage Under Fire (1996)',\n",
       " 648: 'Mission: Impossible (1996)',\n",
       " 650: 'Moll Flanders (1996)',\n",
       " 651: 'Superweib, Das (1996)',\n",
       " 131724: 'The Jinx: The Life and Deaths of Robert Durst (2015)',\n",
       " 653: 'Dragonheart (1996)',\n",
       " 656: 'Eddie (1996)',\n",
       " 98961: 'Zero Dark Thirty (2012)',\n",
       " 659: 'Purple Noon (Plein soleil) (1960)',\n",
       " 118082: 'The Voices (2014)',\n",
       " 661: 'James and the Giant Peach (1996)',\n",
       " 662: 'Fear (1996)',\n",
       " 663: 'Kids in the Hall: Brain Candy (1996)',\n",
       " 664: 'Faithful (1996)',\n",
       " 665: 'Underground (1995)',\n",
       " 667: 'Bloodsport 2 (a.k.a. Bloodsport II: The Next Kumite) (1996)',\n",
       " 668: 'Song of the Little Road (Pather Panchali) (1955)',\n",
       " 33437: 'Unleashed (Danny the Dog) (2005)',\n",
       " 670: 'World of Apu, The (Apur Sansar) (1959)',\n",
       " 671: 'Mystery Science Theater 3000: The Movie (1996)',\n",
       " 49824: 'Dreamgirls (2006)',\n",
       " 673: 'Space Jam (1996)',\n",
       " 674: 'Barbarella (1968)',\n",
       " 678: 'Some Folks Call It a Sling Blade (1993)',\n",
       " 679: 'Run of the Country, The (1995)',\n",
       " 680: 'Alphaville (Alphaville, une étrange aventure de Lemmy Caution) (1965)',\n",
       " 681: 'Coup de torchon (Clean Slate) (1981)',\n",
       " 685: \"It's My Party (1996)\",\n",
       " 687: 'Country Life (1994)',\n",
       " 688: 'Operation Dumbo Drop (1995)',\n",
       " 690: 'Promise, The (Versprechen, Das) (1995)',\n",
       " 691: 'Mrs. Winterbourne (1996)',\n",
       " 692: 'Solo (1996)',\n",
       " 694: 'Substitute, The (1996)',\n",
       " 695: 'True Crime (1996)',\n",
       " 696: 'Butterfly Kiss (1995)',\n",
       " 697: 'Feeling Minnesota (1996)',\n",
       " 698: 'Delta of Venus (1995)',\n",
       " 700: 'Angus (1995)',\n",
       " 99005: 'Fire with Fire (2012)',\n",
       " 702: 'Faces (1968)',\n",
       " 703: 'Boys (1996)',\n",
       " 704: 'Quest, The (1996)',\n",
       " 705: 'Cosi (1996)',\n",
       " 707: 'Mulholland Falls (1996)',\n",
       " 708: 'Truth About Cats & Dogs, The (1996)',\n",
       " 709: 'Oliver & Company (1988)',\n",
       " 710: 'Celtic Pride (1996)',\n",
       " 711: 'Flipper (1996)',\n",
       " 148168: 'Pek Yakında (2014)',\n",
       " 714: 'Dead Man (1995)',\n",
       " 715: 'Horseman on the Roof, The (Hussard sur le toit, Le) (1995)',\n",
       " 718: 'Visitors, The (Visiteurs, Les) (1993)',\n",
       " 719: 'Multiplicity (1996)',\n",
       " 720: 'Wallace & Gromit: The Best of Aardman Animation (1996)',\n",
       " 721: 'Halfmoon (Paul Bowles - Halbmond) (1995)',\n",
       " 722: 'Haunted World of Edward D. Wood Jr., The (1996)',\n",
       " 724: 'Craft, The (1996)',\n",
       " 725: 'Great White Hype, The (1996)',\n",
       " 726: 'Last Dance (1996)',\n",
       " 33495: 'Kicking & Screaming (2005)',\n",
       " 728: 'Cold Comfort Farm (1995)',\n",
       " 84772: 'Paul (2011)',\n",
       " 731: \"Heaven's Prisoners (1996)\",\n",
       " 733: 'Rock, The (1996)',\n",
       " 735: 'Cemetery Man (Dellamorte Dellamore) (1994)',\n",
       " 736: 'Twister (1996)',\n",
       " 737: 'Barb Wire (1996)',\n",
       " 741: 'Ghost in the Shell (Kôkaku kidôtai) (1995)',\n",
       " 742: 'Thinner (1996)',\n",
       " 743: 'Spy Hard (1996)',\n",
       " 745: 'Wallace & Gromit: A Close Shave (1995)',\n",
       " 746: 'Force of Evil (1948)',\n",
       " 747: 'Stupids, The (1996)',\n",
       " 748: 'Arrival, The (1996)',\n",
       " 750: 'Dr. Strangelove or: How I Learned to Stop Worrying and Love the Bomb (1964)',\n",
       " 753: 'Month by the Lake, A (1995)',\n",
       " 754: 'Gold Diggers: The Secret of Bear Mountain (1995)',\n",
       " 755: 'Kim (1950)',\n",
       " 756: 'Carmen Miranda: Bananas Is My Business (1994)',\n",
       " 757: 'Ashes of Time (Dung che sai duk) (1994)',\n",
       " 49910: 'Freedom Writers (2007)',\n",
       " 759: 'Maya Lin: A Strong Clear Vision (1994)',\n",
       " 760: 'Stalingrad (1993)',\n",
       " 761: 'Phantom, The (1996)',\n",
       " 762: 'Striptease (1996)',\n",
       " 764: 'Heavy (1995)',\n",
       " 765: 'Jack (1996)',\n",
       " 766: 'I Shot Andy Warhol (1996)',\n",
       " 767: 'Grass Harp, The (1995)',\n",
       " 769: 'Marlene Dietrich: Shadow and Light (1996)',\n",
       " 115664: 'The Book of Life (2014)',\n",
       " 66310: 'Frontière(s) (2007)',\n",
       " 775: 'Spirits of the Dead (1968)',\n",
       " 778: 'Trainspotting (1996)',\n",
       " 779: \"'Til There Was You (1997)\",\n",
       " 780: 'Independence Day (a.k.a. ID4) (1996)',\n",
       " 781: 'Stealing Beauty (1996)',\n",
       " 782: 'Fan, The (1996)',\n",
       " 783: 'Hunchback of Notre Dame, The (1996)',\n",
       " 784: 'Cable Guy, The (1996)',\n",
       " 785: 'Kingpin (1996)',\n",
       " 786: 'Eraser (1996)',\n",
       " 787: 'Gate of Heavenly Peace, The (1995)',\n",
       " 788: 'Nutty Professor, The (1996)',\n",
       " 33558: 'Snow Walker, The (2003)',\n",
       " 793: \"My Life and Times With Antonin Artaud (En compagnie d'Antonin Artaud) (1993)\",\n",
       " 39307: 'Dreamer: Inspired by a True Story (2005)',\n",
       " 798: 'Daylight (1996)',\n",
       " 799: 'Frighteners, The (1996)',\n",
       " 800: 'Lone Star (1996)',\n",
       " 801: 'Harriet the Spy (1996)',\n",
       " 802: 'Phenomenon (1996)',\n",
       " 803: 'Walking and Talking (1996)',\n",
       " 804: \"She's the One (1996)\",\n",
       " 805: 'Time to Kill, A (1996)',\n",
       " 806: 'American Buffalo (1996)',\n",
       " 808: 'Alaska (1996)',\n",
       " 809: 'Fled (1996)',\n",
       " 810: 'Kazaam (1996)',\n",
       " 813: 'Larger Than Life (1996)',\n",
       " 115502: 'Rewrite, The (2014)',\n",
       " 816: 'Two Deaths (1995)',\n",
       " 818: 'Very Brady Sequel, A (1996)',\n",
       " 33587: 'Uninvited, The (1944)',\n",
       " 820: 'Death in the Garden (Mort en ce jardin, La) (1956)',\n",
       " 49647: \"Charlotte's Web (2006)\",\n",
       " 98441: 'Rebecca of Sunnybrook Farm (1938)',\n",
       " 824: 'Kaspar Hauser (1993)',\n",
       " 71135: 'Pandorum (2009)',\n",
       " 828: 'Adventures of Pinocchio, The (1996)',\n",
       " 829: \"Joe's Apartment (1996)\",\n",
       " 830: 'First Wives Club, The (1996)',\n",
       " 831: 'Stonewall (1995)',\n",
       " 832: 'Ransom (1996)',\n",
       " 833: 'High School High (1996)',\n",
       " 834: 'Phat Beach (1996)',\n",
       " 835: 'Foxfire (1996)',\n",
       " 836: 'Chain Reaction (1996)',\n",
       " 837: 'Matilda (1996)',\n",
       " 838: 'Emma (1996)',\n",
       " 839: 'Crow: City of Angels, The (1996)',\n",
       " 840: 'House Arrest (1996)',\n",
       " 841: 'Eyes Without a Face (Yeux sans visage, Les) (1959)',\n",
       " 842: 'Tales from the Crypt Presents: Bordello of Blood (1996)',\n",
       " 844: 'Story of Xinghua, The (Xinghua san yue tian) (1994)',\n",
       " 845: 'Day the Sun Turned Cold, The (Tianguo niezi) (1994)',\n",
       " 846: 'Flirt (1995)',\n",
       " 33615: 'Madagascar (2005)',\n",
       " 848: 'Spitfire Grill, The (1996)',\n",
       " 849: 'Escape from L.A. (1996)',\n",
       " 850: 'Cyclo (Xich lo) (1995)',\n",
       " 851: 'Basquiat (1996)',\n",
       " 852: 'Tin Cup (1996)',\n",
       " 33621: 'Somersault (2004)',\n",
       " 854: 'Ballad of Narayama, The (Narayama Bushiko) (1958)',\n",
       " 858: 'Godfather, The (1972)',\n",
       " 50011: 'Bothersome Man, The (Brysomme mannen, Den) (2006)',\n",
       " 861: 'Supercop (Police Story 3: Supercop) (Jing cha gu shi III: Chao ji jing cha) (1992)',\n",
       " 864: 'Wife, The (1995)',\n",
       " 865: 'Small Faces (1996)',\n",
       " 866: 'Bound (1996)',\n",
       " 867: 'Carpool (1996)',\n",
       " 869: 'Kansas City (1996)',\n",
       " 870: \"Gone Fishin' (1997)\",\n",
       " 33639: 'Mad Hot Ballroom (2005)',\n",
       " 872: \"Vive L'Amour (Ai qing wan sui) (1994)\",\n",
       " 109372: 'About Last Night (2014)',\n",
       " 875: 'Nothing to Lose (1994)',\n",
       " 876: 'Supercop 2 (Project S) (Chao ji ji hua) (1993)',\n",
       " 32914: 'Carrie (2002)',\n",
       " 33646: 'Longest Yard, The (2005)',\n",
       " 879: 'Relic, The (1997)',\n",
       " 880: 'Island of Dr. Moreau, The (1996)',\n",
       " 881: 'First Kid (1996)',\n",
       " 882: 'Trigger Effect, The (1996)',\n",
       " 49299: 'Luna de Avellaneda (2004)',\n",
       " 885: 'Bogus (1996)',\n",
       " 886: 'Bulletproof (1996)',\n",
       " 87529: 'Your Highness (2011)',\n",
       " 888: 'Land Before Time III: The Time of the Great Giving (1995)',\n",
       " 889: '1-900 (06) (1994)',\n",
       " 891: 'Halloween: The Curse of Michael Myers (Halloween 6: The Curse of Michael Myers) (1995)',\n",
       " 892: 'Twelfth Night (1996)',\n",
       " 893: 'Mother Night (1996)',\n",
       " 65685: 'Inkheart (2008)',\n",
       " 896: 'Wild Reeds (Les roseaux sauvages) (1994)',\n",
       " 897: 'For Whom the Bell Tolls (1943)',\n",
       " 898: 'Philadelphia Story, The (1940)',\n",
       " 899: \"Singin' in the Rain (1952)\",\n",
       " 900: 'American in Paris, An (1951)',\n",
       " 901: 'Funny Face (1957)',\n",
       " 902: \"Breakfast at Tiffany's (1961)\",\n",
       " 903: 'Vertigo (1958)',\n",
       " 904: 'Rear Window (1954)',\n",
       " 905: 'It Happened One Night (1934)',\n",
       " 906: 'Gaslight (1944)',\n",
       " 907: 'Gay Divorcee, The (1934)',\n",
       " 908: 'North by Northwest (1959)',\n",
       " 909: 'Apartment, The (1960)',\n",
       " 910: 'Some Like It Hot (1959)',\n",
       " 911: 'Charade (1963)',\n",
       " 912: 'Casablanca (1942)',\n",
       " 913: 'Maltese Falcon, The (1941)',\n",
       " 914: 'My Fair Lady (1964)',\n",
       " 915: 'Sabrina (1954)',\n",
       " 916: 'Roman Holiday (1953)',\n",
       " 917: 'Little Princess, The (1939)',\n",
       " 918: 'Meet Me in St. Louis (1944)',\n",
       " 919: 'Wizard of Oz, The (1939)',\n",
       " 920: 'Gone with the Wind (1939)',\n",
       " 921: 'My Favorite Year (1982)',\n",
       " 922: 'Sunset Blvd. (a.k.a. Sunset Boulevard) (1950)',\n",
       " 923: 'Citizen Kane (1941)',\n",
       " 924: '2001: A Space Odyssey (1968)',\n",
       " 98458: 'Baby Take a Bow (1934)',\n",
       " 926: 'All About Eve (1950)',\n",
       " 927: 'Women, The (1939)',\n",
       " 928: 'Rebecca (1940)',\n",
       " 929: 'Foreign Correspondent (1940)',\n",
       " 930: 'Notorious (1946)',\n",
       " 931: 'Spellbound (1945)',\n",
       " 932: 'Affair to Remember, An (1957)',\n",
       " 933: 'To Catch a Thief (1955)',\n",
       " 934: 'Father of the Bride (1950)',\n",
       " 935: 'Band Wagon, The (1953)',\n",
       " 936: 'Ninotchka (1939)',\n",
       " 937: 'Love in the Afternoon (1957)',\n",
       " 938: 'Gigi (1958)',\n",
       " 939: 'Reluctant Debutante, The (1958)',\n",
       " 940: 'Adventures of Robin Hood, The (1938)',\n",
       " 941: 'Mark of Zorro, The (1940)',\n",
       " 942: 'Laura (1944)',\n",
       " 943: 'Ghost and Mrs. Muir, The (1947)',\n",
       " 944: 'Lost Horizon (1937)',\n",
       " 945: 'Top Hat (1935)',\n",
       " 946: 'To Be or Not to Be (1942)',\n",
       " 947: 'My Man Godfrey (1936)',\n",
       " 948: 'Giant (1956)',\n",
       " 949: 'East of Eden (1955)',\n",
       " 950: 'Thin Man, The (1934)',\n",
       " 951: 'His Girl Friday (1940)',\n",
       " 952: 'Around the World in 80 Days (1956)',\n",
       " 953: \"It's a Wonderful Life (1946)\",\n",
       " 954: 'Mr. Smith Goes to Washington (1939)',\n",
       " 955: 'Bringing Up Baby (1938)',\n",
       " 956: 'Penny Serenade (1941)',\n",
       " 957: 'Scarlet Letter, The (1926)',\n",
       " 960: 'Angel on My Shoulder (1946)',\n",
       " 961: 'Little Lord Fauntleroy (1936)',\n",
       " 962: 'They Made Me a Criminal (1939)',\n",
       " 963: 'Inspector General, The (1949)',\n",
       " 964: 'Angel and the Badman (1947)',\n",
       " 965: '39 Steps, The (1935)',\n",
       " 966: 'A Walk in the Sun (1945)',\n",
       " 968: 'Night of the Living Dead (1968)',\n",
       " 969: 'African Queen, The (1951)',\n",
       " 970: 'Beat the Devil (1953)',\n",
       " 971: 'Cat on a Hot Tin Roof (1958)',\n",
       " 972: 'Last Time I Saw Paris, The (1954)',\n",
       " 973: 'Meet John Doe (1941)',\n",
       " 132046: 'Tomorrowland (2015)',\n",
       " 976: 'Farewell to Arms, A (1932)',\n",
       " 93324: 'Undefeated (2011)',\n",
       " 980: 'Yes, Madam (a.k.a. Police Assassins) (a.k.a. In the Line of Duty 2) (Huang gu shi jie) (1985)',\n",
       " 981: 'Dangerous Ground (1997)',\n",
       " 982: 'Picnic (1955)',\n",
       " 33312: 'Cocoanuts, The (1929)',\n",
       " 984: 'Pompatus of Love, The (1996)',\n",
       " 986: 'Fly Away Home (1996)',\n",
       " 987: 'Bliss (1997)',\n",
       " 988: 'Grace of My Heart (1996)',\n",
       " 990: 'Maximum Risk (1996)',\n",
       " 991: 'Michael Collins (1996)',\n",
       " 992: \"Rich Man's Wife, The (1996)\",\n",
       " 994: 'Big Night (1996)',\n",
       " 50147: 'Black Christmas (2006)',\n",
       " 996: 'Last Man Standing (1996)',\n",
       " 997: 'Caught (1996)',\n",
       " 998: 'Set It Off (1996)',\n",
       " 999: '2 Days in the Valley (1996)',\n",
       " 54780: 'Nanny Diaries, The (2007)',\n",
       " 132074: 'No No: A Dockumentary (2014)',\n",
       " 1003: 'Extreme Measures (1996)',\n",
       " 1004: 'Glimmer Man, The (1996)',\n",
       " 1005: 'D3: The Mighty Ducks (1996)',\n",
       " 1006: 'Chamber, The (1996)',\n",
       " 1007: 'Apple Dumpling Gang, The (1975)',\n",
       " 1008: 'Davy Crockett, King of the Wild Frontier (1955)',\n",
       " 1009: 'Escape to Witch Mountain (1975)',\n",
       " 1010: 'Love Bug, The (1969)',\n",
       " 1011: 'Herbie Rides Again (1974)',\n",
       " 1012: 'Old Yeller (1957)',\n",
       " 1013: 'Parent Trap, The (1961)',\n",
       " 1014: 'Pollyanna (1960)',\n",
       " 1015: 'Homeward Bound: The Incredible Journey (1993)',\n",
       " 1016: 'Shaggy Dog, The (1959)',\n",
       " 1017: 'Swiss Family Robinson (1960)',\n",
       " 1018: 'That Darn Cat! (1965)',\n",
       " 1019: '20,000 Leagues Under the Sea (1954)',\n",
       " 1020: 'Cool Runnings (1993)',\n",
       " 1021: 'Angels in the Outfield (1994)',\n",
       " 1022: 'Cinderella (1950)',\n",
       " 1023: 'Winnie the Pooh and the Blustery Day (1968)',\n",
       " 1024: 'Three Caballeros, The (1945)',\n",
       " 1025: 'Sword in the Stone, The (1963)',\n",
       " 1026: 'So Dear to My Heart (1949)',\n",
       " 1027: 'Robin Hood: Prince of Thieves (1991)',\n",
       " 1028: 'Mary Poppins (1964)',\n",
       " 1029: 'Dumbo (1941)',\n",
       " 1030: \"Pete's Dragon (1977)\",\n",
       " 1031: 'Bedknobs and Broomsticks (1971)',\n",
       " 1032: 'Alice in Wonderland (1951)',\n",
       " 1033: 'Fox and the Hound, The (1981)',\n",
       " 1034: 'Freeway (1996)',\n",
       " 1035: 'Sound of Music, The (1965)',\n",
       " 1036: 'Die Hard (1988)',\n",
       " 1037: 'Lawnmower Man, The (1992)',\n",
       " 93326: 'This Means War (2012)',\n",
       " 82093: 'London Boulevard (2010)',\n",
       " 1040: 'Secret Agent, The (1996)',\n",
       " 1041: 'Secrets & Lies (1996)',\n",
       " 1042: 'That Thing You Do! (1996)',\n",
       " 1043: 'To Gillian on Her 37th Birthday (1996)',\n",
       " 1044: 'Surviving Picasso (1996)',\n",
       " 1046: 'Beautiful Thing (1996)',\n",
       " 1047: 'Long Kiss Goodnight, The (1996)',\n",
       " 1049: 'Ghost and the Darkness, The (1996)',\n",
       " 1050: 'Looking for Richard (1996)',\n",
       " 1051: 'Trees Lounge (1996)',\n",
       " 1053: 'Normal Life (1996)',\n",
       " 1054: 'Get on the Bus (1996)',\n",
       " 1055: 'Shadow Conspiracy (1997)',\n",
       " 1056: 'Jude (1996)',\n",
       " 1057: 'Everyone Says I Love You (1996)',\n",
       " 33826: 'Saint Ralph (2004)',\n",
       " 1059: \"William Shakespeare's Romeo + Juliet (1996)\",\n",
       " 1060: 'Swingers (1996)',\n",
       " 1061: 'Sleepers (1996)',\n",
       " 33830: 'Herbie: Fully Loaded (2005)',\n",
       " 1063: 'Johns (1996)',\n",
       " 1064: 'Aladdin and the King of Thieves (1996)',\n",
       " 68444: 'Great Buck Howard, The (2008)',\n",
       " 1066: 'Shall We Dance (1937)',\n",
       " 1067: 'Damsel in Distress, A (1937)',\n",
       " 1068: 'Crossfire (1947)',\n",
       " 1069: 'Murder, My Sweet (1944)',\n",
       " 33838: 'Rize (2005)',\n",
       " 1073: 'Willy Wonka & the Chocolate Factory (1971)',\n",
       " 132146: 'The Harvest (2013)',\n",
       " 1076: 'Innocents, The (1961)',\n",
       " 1077: 'Sleeper (1973)',\n",
       " 1078: 'Bananas (1971)',\n",
       " 1079: 'Fish Called Wanda, A (1988)',\n",
       " 1080: \"Monty Python's Life of Brian (1979)\",\n",
       " 1081: 'Victor/Victoria (1982)',\n",
       " 1082: 'Candidate, The (1972)',\n",
       " 1083: 'Great Race, The (1965)',\n",
       " 1084: 'Bonnie and Clyde (1967)',\n",
       " 1085: 'Old Man and the Sea, The (1958)',\n",
       " 1086: 'Dial M for Murder (1954)',\n",
       " 1087: 'Madame Butterfly (1995)',\n",
       " 1088: 'Dirty Dancing (1987)',\n",
       " 1089: 'Reservoir Dogs (1992)',\n",
       " 1090: 'Platoon (1986)',\n",
       " 1091: \"Weekend at Bernie's (1989)\",\n",
       " 1092: 'Basic Instinct (1992)',\n",
       " 1093: 'Doors, The (1991)',\n",
       " 1094: 'Crying Game, The (1992)',\n",
       " 1095: 'Glengarry Glen Ross (1992)',\n",
       " 1096: \"Sophie's Choice (1982)\",\n",
       " 1097: 'E.T. the Extra-Terrestrial (1982)',\n",
       " 1099: 'Christmas Carol, A (1938)',\n",
       " 1100: 'Days of Thunder (1990)',\n",
       " 1101: 'Top Gun (1986)',\n",
       " 1103: 'Rebel Without a Cause (1955)',\n",
       " 1104: 'Streetcar Named Desire, A (1951)',\n",
       " 1105: 'Children of the Corn IV: The Gathering (1996)',\n",
       " 50259: 'Old Joy (2006)',\n",
       " 115151: 'Plastic (2014)',\n",
       " 1111: \"Microcosmos (Microcosmos: Le peuple de l'herbe) (1996)\",\n",
       " 1112: 'Palookaville (1996)',\n",
       " 1113: 'Associate, The (1996)',\n",
       " 1114: 'Funeral, The (1996)',\n",
       " 121231: 'It Follows (2014)',\n",
       " 134246: 'Survivor (2015)',\n",
       " 1120: 'People vs. Larry Flynt, The (1996)',\n",
       " 1123: 'Perfect Candidate, A (1996)',\n",
       " 1124: 'On Golden Pond (1981)',\n",
       " 1125: 'Return of the Pink Panther, The (1975)',\n",
       " 1126: 'Drop Dead Fred (1991)',\n",
       " 1127: 'Abyss, The (1989)',\n",
       " 1128: 'Fog, The (1980)',\n",
       " 1129: 'Escape from New York (1981)',\n",
       " 1130: 'Howling, The (1980)',\n",
       " 1131: 'Jean de Florette (1986)',\n",
       " 1132: 'Manon of the Spring (Manon des sources) (1986)',\n",
       " 1133: 'Talking About Sex (1994)',\n",
       " 1135: 'Private Benjamin (1980)',\n",
       " 1136: 'Monty Python and the Holy Grail (1975)',\n",
       " 1137: 'Hustler White (1996)',\n",
       " 164979: \"Women of '69, Unboxed\",\n",
       " 33912: 'Unmarried Woman, An (1978)',\n",
       " 1145: 'Snowriders (1996)',\n",
       " 1147: 'When We Were Kings (1996)',\n",
       " 1148: 'Wallace & Gromit: The Wrong Trousers (1993)',\n",
       " 33917: 'Member of the Wedding, The (1952)',\n",
       " 1150: 'Return of Martin Guerre, The (Retour de Martin Guerre, Le) (1982)',\n",
       " 1151: 'Lesson Faust (1994)',\n",
       " 1152: 'He Walked by Night (1948)',\n",
       " 1153: 'Raw Deal (1948)',\n",
       " ...}"
      ]
     },
     "execution_count": 9,
     "metadata": {},
     "output_type": "execute_result"
    }
   ],
   "source": [
    "movie_names"
   ]
  },
  {
   "cell_type": "code",
   "execution_count": 10,
   "metadata": {
    "collapsed": true
   },
   "outputs": [],
   "source": [
    "users = ratings.userId.unique()\n",
    "movies = ratings.movieId.unique()"
   ]
  },
  {
   "cell_type": "code",
   "execution_count": 11,
   "metadata": {
    "collapsed": true
   },
   "outputs": [],
   "source": [
    "userid2idx = {o:i for i,o in enumerate(users)}\n",
    "movieid2idx = {o:i for i,o in enumerate(movies)}"
   ]
  },
  {
   "cell_type": "markdown",
   "metadata": {},
   "source": [
    "对ratings的userid和movieid以升序排序，以变成连续的整数，用于后面的embedding层。"
   ]
  },
  {
   "cell_type": "code",
   "execution_count": 12,
   "metadata": {
    "collapsed": false
   },
   "outputs": [],
   "source": [
    "ratings.movieId = ratings.movieId.apply(lambda x : movieid2idx[x])\n",
    "ratings.userId = ratings.userId.apply(lambda x : userid2idx[x])"
   ]
  },
  {
   "cell_type": "code",
   "execution_count": 13,
   "metadata": {
    "collapsed": false,
    "scrolled": true
   },
   "outputs": [
    {
     "data": {
      "text/html": [
       "<div>\n",
       "<table border=\"1\" class=\"dataframe\">\n",
       "  <thead>\n",
       "    <tr style=\"text-align: right;\">\n",
       "      <th></th>\n",
       "      <th>userId</th>\n",
       "      <th>movieId</th>\n",
       "      <th>rating</th>\n",
       "      <th>timestamp</th>\n",
       "    </tr>\n",
       "  </thead>\n",
       "  <tbody>\n",
       "    <tr>\n",
       "      <th>0</th>\n",
       "      <td>0</td>\n",
       "      <td>0</td>\n",
       "      <td>2.5</td>\n",
       "      <td>1260759144</td>\n",
       "    </tr>\n",
       "    <tr>\n",
       "      <th>1</th>\n",
       "      <td>0</td>\n",
       "      <td>1</td>\n",
       "      <td>3.0</td>\n",
       "      <td>1260759179</td>\n",
       "    </tr>\n",
       "    <tr>\n",
       "      <th>2</th>\n",
       "      <td>0</td>\n",
       "      <td>2</td>\n",
       "      <td>3.0</td>\n",
       "      <td>1260759182</td>\n",
       "    </tr>\n",
       "    <tr>\n",
       "      <th>3</th>\n",
       "      <td>0</td>\n",
       "      <td>3</td>\n",
       "      <td>2.0</td>\n",
       "      <td>1260759185</td>\n",
       "    </tr>\n",
       "    <tr>\n",
       "      <th>4</th>\n",
       "      <td>0</td>\n",
       "      <td>4</td>\n",
       "      <td>4.0</td>\n",
       "      <td>1260759205</td>\n",
       "    </tr>\n",
       "  </tbody>\n",
       "</table>\n",
       "</div>"
      ],
      "text/plain": [
       "   userId  movieId  rating   timestamp\n",
       "0       0        0     2.5  1260759144\n",
       "1       0        1     3.0  1260759179\n",
       "2       0        2     3.0  1260759182\n",
       "3       0        3     2.0  1260759185\n",
       "4       0        4     4.0  1260759205"
      ]
     },
     "execution_count": 13,
     "metadata": {},
     "output_type": "execute_result"
    }
   ],
   "source": [
    "ratings.head()"
   ]
  },
  {
   "cell_type": "code",
   "execution_count": 14,
   "metadata": {
    "collapsed": false
   },
   "outputs": [
    {
     "data": {
      "text/plain": [
       "(0, 670, 0, 9065)"
      ]
     },
     "execution_count": 14,
     "metadata": {},
     "output_type": "execute_result"
    }
   ],
   "source": [
    "user_min, user_max, movie_min, movie_max = (ratings.userId.min(), \n",
    "    ratings.userId.max(), ratings.movieId.min(), ratings.movieId.max())\n",
    "user_min, user_max, movie_min, movie_max"
   ]
  },
  {
   "cell_type": "code",
   "execution_count": 15,
   "metadata": {
    "collapsed": false
   },
   "outputs": [
    {
     "data": {
      "text/plain": [
       "(671, 9066)"
      ]
     },
     "execution_count": 15,
     "metadata": {},
     "output_type": "execute_result"
    }
   ],
   "source": [
    "n_users = ratings.userId.nunique()\n",
    "n_movies = ratings.movieId.nunique()\n",
    "n_users,n_movies"
   ]
  },
  {
   "cell_type": "markdown",
   "metadata": {},
   "source": [
    "设置潜在因子数量"
   ]
  },
  {
   "cell_type": "code",
   "execution_count": 16,
   "metadata": {
    "collapsed": true
   },
   "outputs": [],
   "source": [
    "n_factors = 50"
   ]
  },
  {
   "cell_type": "code",
   "execution_count": 17,
   "metadata": {
    "collapsed": true
   },
   "outputs": [],
   "source": [
    "np.random.seed= 42"
   ]
  },
  {
   "cell_type": "markdown",
   "metadata": {},
   "source": [
    "随机分类出训练集和验证集"
   ]
  },
  {
   "cell_type": "code",
   "execution_count": 18,
   "metadata": {
    "collapsed": true
   },
   "outputs": [],
   "source": [
    "msk = np.random.rand(len(ratings)) < 0.8\n",
    "trn = ratings[msk]\n",
    "val = ratings[~msk]"
   ]
  },
  {
   "cell_type": "code",
   "execution_count": 19,
   "metadata": {
    "collapsed": false
   },
   "outputs": [
    {
     "data": {
      "text/plain": [
       "(79869, 20135)"
      ]
     },
     "execution_count": 19,
     "metadata": {},
     "output_type": "execute_result"
    }
   ],
   "source": [
    "len(trn),len(val)"
   ]
  },
  {
   "cell_type": "markdown",
   "metadata": {},
   "source": [
    "## 点乘 Dot Product"
   ]
  },
  {
   "cell_type": "code",
   "execution_count": 78,
   "metadata": {
    "collapsed": false
   },
   "outputs": [],
   "source": [
    "from keras.layers import Input, Dense, merge, Flatten, Activation,  Dropout\n",
    "from keras.models import Model\n",
    "from keras.layers import Embedding\n",
    "from keras import regularizers\n",
    "from keras import optimizers"
   ]
  },
  {
   "cell_type": "code",
   "execution_count": 21,
   "metadata": {
    "collapsed": true
   },
   "outputs": [
    {
     "name": "stderr",
     "output_type": "stream",
     "text": [
      "H:\\Anaconda3\\lib\\site-packages\\ipykernel\\__main__.py:2: UserWarning: Update your `Embedding` call to the Keras 2 API: `Embedding(671, 50, input_length=1, embeddings_regularizer=<keras.reg...)`\n",
      "  from ipykernel import kernelapp as app\n",
      "H:\\Anaconda3\\lib\\site-packages\\ipykernel\\__main__.py:4: UserWarning: Update your `Embedding` call to the Keras 2 API: `Embedding(9066, 50, input_length=1, embeddings_regularizer=<keras.reg...)`\n"
     ]
    }
   ],
   "source": [
    "user_in = Input(shape=(1,), dtype='int64', name='user_in')\n",
    "u = Embedding(n_users, n_factors, input_length=1, W_regularizer=regularizers.l2(1e-4))(user_in)\n",
    "movie_in = Input(shape=(1,), dtype='int64', name='movie_in')\n",
    "m = Embedding(n_movies, n_factors, input_length=1, W_regularizer=regularizers.l2(1e-4))(user_in)"
   ]
  },
  {
   "cell_type": "code",
   "execution_count": 22,
   "metadata": {
    "collapsed": true
   },
   "outputs": [
    {
     "name": "stderr",
     "output_type": "stream",
     "text": [
      "H:\\Anaconda3\\lib\\site-packages\\ipykernel\\__main__.py:1: UserWarning: The `merge` function is deprecated and will be removed after 08/2017. Use instead layers from `keras.layers.merge`, e.g. `add`, `concatenate`, etc.\n",
      "  if __name__ == '__main__':\n",
      "H:\\Anaconda3\\lib\\site-packages\\keras\\legacy\\layers.py:460: UserWarning: The `Merge` layer is deprecated and will be removed after 08/2017. Use instead layers from `keras.layers.merge`, e.g. `add`, `concatenate`, etc.\n",
      "  name=name)\n"
     ]
    }
   ],
   "source": [
    "x = merge([u,m], mode='dot')\n",
    "x = Flatten()(x)\n",
    "model = Model([user_in, movie_in], x)\n",
    "model.compile(optimizers.Adam(0.001), loss='mse')"
   ]
  },
  {
   "cell_type": "code",
   "execution_count": 70,
   "metadata": {
    "collapsed": false
   },
   "outputs": [
    {
     "name": "stderr",
     "output_type": "stream",
     "text": [
      "H:\\Anaconda3\\lib\\site-packages\\ipykernel\\__main__.py:2: UserWarning: The `nb_epoch` argument in `fit` has been renamed `epochs`.\n",
      "  from ipykernel import kernelapp as app\n"
     ]
    },
    {
     "name": "stdout",
     "output_type": "stream",
     "text": [
      "Train on 80099 samples, validate on 19905 samples\n",
      "Epoch 1/1\n",
      "80099/80099 [==============================] - 44s - loss: 4.8206 - val_loss: 1.6650\n"
     ]
    },
    {
     "data": {
      "text/plain": [
       "<keras.callbacks.History at 0x11dd3ef0>"
      ]
     },
     "execution_count": 70,
     "metadata": {},
     "output_type": "execute_result"
    }
   ],
   "source": [
    "model.fit([trn.userId, trn.movieId], trn.rating, batch_size=64, nb_epoch=1, \n",
    "         validation_data=([val.userId, val.movieId], val.rating))"
   ]
  },
  {
   "cell_type": "code",
   "execution_count": 71,
   "metadata": {
    "collapsed": true
   },
   "outputs": [],
   "source": [
    "model.optimizer.lr=0.01"
   ]
  },
  {
   "cell_type": "code",
   "execution_count": 72,
   "metadata": {
    "collapsed": false
   },
   "outputs": [
    {
     "name": "stdout",
     "output_type": "stream",
     "text": [
      "Train on 80099 samples, validate on 19905 samples\n",
      "Epoch 1/3\n",
      "  192/80099 [..............................] - ETA: 55s - loss: 1.5782"
     ]
    },
    {
     "name": "stderr",
     "output_type": "stream",
     "text": [
      "H:\\Anaconda3\\lib\\site-packages\\ipykernel\\__main__.py:2: UserWarning: The `nb_epoch` argument in `fit` has been renamed `epochs`.\n",
      "  from ipykernel import kernelapp as app\n"
     ]
    },
    {
     "name": "stdout",
     "output_type": "stream",
     "text": [
      "80099/80099 [==============================] - 49s - loss: 1.4899 - val_loss: 1.4506\n",
      "Epoch 2/3\n",
      "80099/80099 [==============================] - 50s - loss: 1.4326 - val_loss: 1.4356\n",
      "Epoch 3/3\n",
      "80099/80099 [==============================] - 48s - loss: 1.4318 - val_loss: 1.4367\n"
     ]
    },
    {
     "data": {
      "text/plain": [
       "<keras.callbacks.History at 0xd3143c8>"
      ]
     },
     "execution_count": 72,
     "metadata": {},
     "output_type": "execute_result"
    }
   ],
   "source": [
    "model.fit([trn.userId, trn.movieId], trn.rating, batch_size=64, nb_epoch=3, \n",
    "          validation_data=([val.userId, val.movieId], val.rating))"
   ]
  },
  {
   "cell_type": "markdown",
   "metadata": {
    "collapsed": true
   },
   "source": [
    "## Bias 偏差"
   ]
  },
  {
   "cell_type": "code",
   "execution_count": 26,
   "metadata": {
    "collapsed": true
   },
   "outputs": [],
   "source": [
    "def embedding_input(name, n_in, n_out, reg):\n",
    "    inp = Input(shape=(1,), dtype='int64', name=name)\n",
    "    return inp, Embedding(n_in, n_out, input_length=1, W_regularizer=regularizers.l2(reg))(inp)"
   ]
  },
  {
   "cell_type": "code",
   "execution_count": 27,
   "metadata": {
    "collapsed": true
   },
   "outputs": [
    {
     "name": "stderr",
     "output_type": "stream",
     "text": [
      "H:\\Anaconda3\\lib\\site-packages\\ipykernel\\__main__.py:3: UserWarning: Update your `Embedding` call to the Keras 2 API: `Embedding(671, 50, input_length=1, embeddings_regularizer=<keras.reg...)`\n",
      "  app.launch_new_instance()\n",
      "H:\\Anaconda3\\lib\\site-packages\\ipykernel\\__main__.py:3: UserWarning: Update your `Embedding` call to the Keras 2 API: `Embedding(9066, 50, input_length=1, embeddings_regularizer=<keras.reg...)`\n",
      "  app.launch_new_instance()\n"
     ]
    }
   ],
   "source": [
    "user_in, u = embedding_input('user_in', n_users, n_factors, 1e-4)\n",
    "movie_in, m = embedding_input('movie_in', n_movies, n_factors, 1e-4)"
   ]
  },
  {
   "cell_type": "code",
   "execution_count": 28,
   "metadata": {
    "collapsed": true
   },
   "outputs": [],
   "source": [
    "def create_bias(inp, n_in):\n",
    "    x = Embedding(n_in, 1, input_length=1)(inp)\n",
    "    return Flatten()(x)"
   ]
  },
  {
   "cell_type": "code",
   "execution_count": 29,
   "metadata": {
    "collapsed": true
   },
   "outputs": [],
   "source": [
    "ub = create_bias(user_in, n_users)\n",
    "mb = create_bias(movie_in, n_movies)"
   ]
  },
  {
   "cell_type": "code",
   "execution_count": 30,
   "metadata": {
    "collapsed": true
   },
   "outputs": [
    {
     "name": "stderr",
     "output_type": "stream",
     "text": [
      "H:\\Anaconda3\\lib\\site-packages\\ipykernel\\__main__.py:1: UserWarning: The `merge` function is deprecated and will be removed after 08/2017. Use instead layers from `keras.layers.merge`, e.g. `add`, `concatenate`, etc.\n",
      "  if __name__ == '__main__':\n",
      "H:\\Anaconda3\\lib\\site-packages\\keras\\legacy\\layers.py:460: UserWarning: The `Merge` layer is deprecated and will be removed after 08/2017. Use instead layers from `keras.layers.merge`, e.g. `add`, `concatenate`, etc.\n",
      "  name=name)\n",
      "H:\\Anaconda3\\lib\\site-packages\\ipykernel\\__main__.py:3: UserWarning: The `merge` function is deprecated and will be removed after 08/2017. Use instead layers from `keras.layers.merge`, e.g. `add`, `concatenate`, etc.\n",
      "  app.launch_new_instance()\n",
      "H:\\Anaconda3\\lib\\site-packages\\ipykernel\\__main__.py:4: UserWarning: The `merge` function is deprecated and will be removed after 08/2017. Use instead layers from `keras.layers.merge`, e.g. `add`, `concatenate`, etc.\n"
     ]
    }
   ],
   "source": [
    "x = merge([u, m], mode='dot')\n",
    "x = Flatten()(x)\n",
    "x = merge([x, ub], mode='sum')\n",
    "x = merge([x, mb], mode='sum')\n",
    "model = Model([user_in, movie_in], x)\n",
    "model.compile(optimizers.Adam(0.001), loss='mse')"
   ]
  },
  {
   "cell_type": "code",
   "execution_count": 31,
   "metadata": {
    "collapsed": false
   },
   "outputs": [
    {
     "name": "stderr",
     "output_type": "stream",
     "text": [
      "H:\\Anaconda3\\lib\\site-packages\\ipykernel\\__main__.py:2: UserWarning: The `nb_epoch` argument in `fit` has been renamed `epochs`.\n",
      "  from ipykernel import kernelapp as app\n"
     ]
    },
    {
     "name": "stdout",
     "output_type": "stream",
     "text": [
      "Train on 79869 samples, validate on 20135 samples\n",
      "Epoch 1/1\n",
      "79869/79869 [==============================] - 44s - loss: 8.8173 - val_loss: 3.5654\n"
     ]
    },
    {
     "data": {
      "text/plain": [
       "<keras.callbacks.History at 0xfb3fe48>"
      ]
     },
     "execution_count": 31,
     "metadata": {},
     "output_type": "execute_result"
    }
   ],
   "source": [
    "model.fit([trn.userId, trn.movieId], trn.rating, batch_size=64, nb_epoch=1, \n",
    "         validation_data=([val.userId, val.movieId], val.rating))"
   ]
  },
  {
   "cell_type": "code",
   "execution_count": 33,
   "metadata": {
    "collapsed": true
   },
   "outputs": [],
   "source": [
    "model.optimizer.lr = 0.01"
   ]
  },
  {
   "cell_type": "code",
   "execution_count": 34,
   "metadata": {
    "collapsed": true
   },
   "outputs": [
    {
     "name": "stdout",
     "output_type": "stream",
     "text": [
      "Train on 79869 samples, validate on 20135 samples\n",
      "Epoch 1/6\n",
      "  320/79869 [..............................] - ETA: 48s - loss: 2.7224"
     ]
    },
    {
     "name": "stderr",
     "output_type": "stream",
     "text": [
      "H:\\Anaconda3\\lib\\site-packages\\ipykernel\\__main__.py:2: UserWarning: The `nb_epoch` argument in `fit` has been renamed `epochs`.\n",
      "  from ipykernel import kernelapp as app\n"
     ]
    },
    {
     "name": "stdout",
     "output_type": "stream",
     "text": [
      "79869/79869 [==============================] - 43s - loss: 2.3388 - val_loss: 2.2656\n",
      "Epoch 2/6\n",
      "79869/79869 [==============================] - 43s - loss: 1.9419 - val_loss: 2.1042\n",
      "Epoch 3/6\n",
      "79869/79869 [==============================] - 42s - loss: 1.8077 - val_loss: 2.0129\n",
      "Epoch 4/6\n",
      "79869/79869 [==============================] - 41s - loss: 1.7165 - val_loss: 1.9405\n",
      "Epoch 5/6\n",
      "79869/79869 [==============================] - 42s - loss: 1.6386 - val_loss: 1.8692\n",
      "Epoch 6/6\n",
      "79869/79869 [==============================] - 42s - loss: 1.5648 - val_loss: 1.8067\n"
     ]
    },
    {
     "data": {
      "text/plain": [
       "<keras.callbacks.History at 0x104d42b0>"
      ]
     },
     "execution_count": 34,
     "metadata": {},
     "output_type": "execute_result"
    }
   ],
   "source": [
    "model.fit([trn.userId, trn.movieId], trn.rating, batch_size=64, nb_epoch=6, \n",
    "         validation_data=([val.userId, val.movieId], val.rating))"
   ]
  },
  {
   "cell_type": "code",
   "execution_count": 35,
   "metadata": {
    "collapsed": true
   },
   "outputs": [],
   "source": [
    "model.optimizer.lr = 0.001"
   ]
  },
  {
   "cell_type": "code",
   "execution_count": 36,
   "metadata": {
    "collapsed": true
   },
   "outputs": [
    {
     "name": "stdout",
     "output_type": "stream",
     "text": [
      "Train on 79869 samples, validate on 20135 samples\n",
      "Epoch 1/6\n",
      "  320/79869 [..............................] - ETA: 50s - loss: 1.5429"
     ]
    },
    {
     "name": "stderr",
     "output_type": "stream",
     "text": [
      "H:\\Anaconda3\\lib\\site-packages\\ipykernel\\__main__.py:2: UserWarning: The `nb_epoch` argument in `fit` has been renamed `epochs`.\n",
      "  from ipykernel import kernelapp as app\n"
     ]
    },
    {
     "name": "stdout",
     "output_type": "stream",
     "text": [
      "79869/79869 [==============================] - 43s - loss: 1.4943 - val_loss: 1.7464\n",
      "Epoch 2/6\n",
      "79869/79869 [==============================] - 43s - loss: 1.4235 - val_loss: 1.6822\n",
      "Epoch 3/6\n",
      "79869/79869 [==============================] - 42s - loss: 1.3553 - val_loss: 1.6277\n",
      "Epoch 4/6\n",
      "79869/79869 [==============================] - 42s - loss: 1.2895 - val_loss: 1.5765\n",
      "Epoch 5/6\n",
      "79869/79869 [==============================] - 43s - loss: 1.2261 - val_loss: 1.5238\n",
      "Epoch 6/6\n",
      "79869/79869 [==============================] - 42s - loss: 1.1654 - val_loss: 1.4730\n"
     ]
    },
    {
     "data": {
      "text/plain": [
       "<keras.callbacks.History at 0x104d4550>"
      ]
     },
     "execution_count": 36,
     "metadata": {},
     "output_type": "execute_result"
    }
   ],
   "source": [
    "model.fit([trn.userId, trn.movieId], trn.rating, batch_size=64, nb_epoch=6, \n",
    "         validation_data=([val.userId, val.movieId], val.rating))"
   ]
  },
  {
   "cell_type": "code",
   "execution_count": 37,
   "metadata": {
    "collapsed": true
   },
   "outputs": [
    {
     "name": "stdout",
     "output_type": "stream",
     "text": [
      "Train on 79869 samples, validate on 20135 samples\n",
      "Epoch 1/10\n",
      "  320/79869 [..............................] - ETA: 47s - loss: 1.0309"
     ]
    },
    {
     "name": "stderr",
     "output_type": "stream",
     "text": [
      "H:\\Anaconda3\\lib\\site-packages\\ipykernel\\__main__.py:2: UserWarning: The `nb_epoch` argument in `fit` has been renamed `epochs`.\n",
      "  from ipykernel import kernelapp as app\n"
     ]
    },
    {
     "name": "stdout",
     "output_type": "stream",
     "text": [
      "79869/79869 [==============================] - 42s - loss: 1.1090 - val_loss: 1.4312\n",
      "Epoch 2/10\n",
      "79869/79869 [==============================] - 42s - loss: 1.0542 - val_loss: 1.3889\n",
      "Epoch 3/10\n",
      "79869/79869 [==============================] - 42s - loss: 1.0031 - val_loss: 1.3472\n",
      "Epoch 4/10\n",
      "79869/79869 [==============================] - 42s - loss: 0.9556 - val_loss: 1.3126\n",
      "Epoch 5/10\n",
      "79869/79869 [==============================] - 43s - loss: 0.9101 - val_loss: 1.2759\n",
      "Epoch 6/10\n",
      "79869/79869 [==============================] - 43s - loss: 0.8679 - val_loss: 1.2447\n",
      "Epoch 7/10\n",
      "79869/79869 [==============================] - 42s - loss: 0.8285 - val_loss: 1.2141\n",
      "Epoch 8/10\n",
      "79869/79869 [==============================] - 43s - loss: 0.7923 - val_loss: 1.1901\n",
      "Epoch 9/10\n",
      "79869/79869 [==============================] - 43s - loss: 0.7589 - val_loss: 1.1658\n",
      "Epoch 10/10\n",
      "79869/79869 [==============================] - 44s - loss: 0.7287 - val_loss: 1.1434\n"
     ]
    },
    {
     "data": {
      "text/plain": [
       "<keras.callbacks.History at 0x100bb4a8>"
      ]
     },
     "execution_count": 37,
     "metadata": {},
     "output_type": "execute_result"
    }
   ],
   "source": [
    "model.fit([trn.userId, trn.movieId], trn.rating, batch_size=64, nb_epoch=10, \n",
    "         validation_data=([val.userId, val.movieId], val.rating))"
   ]
  },
  {
   "cell_type": "code",
   "execution_count": 38,
   "metadata": {
    "collapsed": true
   },
   "outputs": [
    {
     "name": "stdout",
     "output_type": "stream",
     "text": [
      "Train on 79869 samples, validate on 20135 samples\n",
      "Epoch 1/10\n",
      "  320/79869 [..............................] - ETA: 46s - loss: 0.6587"
     ]
    },
    {
     "name": "stderr",
     "output_type": "stream",
     "text": [
      "H:\\Anaconda3\\lib\\site-packages\\ipykernel\\__main__.py:2: UserWarning: The `nb_epoch` argument in `fit` has been renamed `epochs`.\n",
      "  from ipykernel import kernelapp as app\n"
     ]
    },
    {
     "name": "stdout",
     "output_type": "stream",
     "text": [
      "79869/79869 [==============================] - 43s - loss: 0.7008 - val_loss: 1.1250\n",
      "Epoch 2/10\n",
      "79869/79869 [==============================] - 43s - loss: 0.6760 - val_loss: 1.1068\n",
      "Epoch 3/10\n",
      "79869/79869 [==============================] - 43s - loss: 0.6539 - val_loss: 1.0930\n",
      "Epoch 4/10\n",
      "79869/79869 [==============================] - 42s - loss: 0.6347 - val_loss: 1.0793\n",
      "Epoch 5/10\n",
      "79869/79869 [==============================] - 44s - loss: 0.6182 - val_loss: 1.0688\n",
      "Epoch 6/10\n",
      "79869/79869 [==============================] - 42s - loss: 0.6032 - val_loss: 1.0604\n",
      "Epoch 7/10\n",
      "79869/79869 [==============================] - 42s - loss: 0.5911 - val_loss: 1.0527\n",
      "Epoch 8/10\n",
      "79869/79869 [==============================] - 43s - loss: 0.5809 - val_loss: 1.0479\n",
      "Epoch 9/10\n",
      "79869/79869 [==============================] - 43s - loss: 0.5722 - val_loss: 1.0440\n",
      "Epoch 10/10\n",
      "79869/79869 [==============================] - 43s - loss: 0.5652 - val_loss: 1.0418\n"
     ]
    },
    {
     "data": {
      "text/plain": [
       "<keras.callbacks.History at 0x104d42e8>"
      ]
     },
     "execution_count": 38,
     "metadata": {},
     "output_type": "execute_result"
    }
   ],
   "source": [
    "model.fit([trn.userId, trn.movieId], trn.rating, batch_size=64, nb_epoch=10, \n",
    "         validation_data=([val.userId, val.movieId], val.rating))"
   ]
  },
  {
   "cell_type": "code",
   "execution_count": 42,
   "metadata": {
    "collapsed": true
   },
   "outputs": [],
   "source": [
    "model.optimizer.lr = 0.001"
   ]
  },
  {
   "cell_type": "code",
   "execution_count": 43,
   "metadata": {
    "collapsed": false
   },
   "outputs": [
    {
     "name": "stdout",
     "output_type": "stream",
     "text": [
      "Train on 79869 samples, validate on 20135 samples\n",
      "Epoch 1/5\n",
      "  320/79869 [..............................] - ETA: 51s - loss: 0.4990"
     ]
    },
    {
     "name": "stderr",
     "output_type": "stream",
     "text": [
      "H:\\Anaconda3\\lib\\site-packages\\ipykernel\\__main__.py:2: UserWarning: The `nb_epoch` argument in `fit` has been renamed `epochs`.\n",
      "  from ipykernel import kernelapp as app\n"
     ]
    },
    {
     "name": "stdout",
     "output_type": "stream",
     "text": [
      "79869/79869 [==============================] - 43s - loss: 0.5416 - val_loss: 1.0387\n",
      "Epoch 2/5\n",
      "79869/79869 [==============================] - 43s - loss: 0.5393 - val_loss: 1.0394\n",
      "Epoch 3/5\n",
      "79869/79869 [==============================] - 43s - loss: 0.5373 - val_loss: 1.0402\n",
      "Epoch 4/5\n",
      "79869/79869 [==============================] - 43s - loss: 0.5358 - val_loss: 1.0408\n",
      "Epoch 5/5\n",
      "79869/79869 [==============================] - 43s - loss: 0.5342 - val_loss: 1.0412\n"
     ]
    },
    {
     "data": {
      "text/plain": [
       "<keras.callbacks.History at 0x100bbe80>"
      ]
     },
     "execution_count": 43,
     "metadata": {},
     "output_type": "execute_result"
    }
   ],
   "source": [
    "model.fit([trn.userId, trn.movieId], trn.rating, batch_size=64, nb_epoch=5, \n",
    "         validation_data=([val.userId, val.movieId], val.rating))"
   ]
  },
  {
   "cell_type": "markdown",
   "metadata": {},
   "source": [
    "## 分析结果"
   ]
  },
  {
   "cell_type": "code",
   "execution_count": 81,
   "metadata": {
    "collapsed": true
   },
   "outputs": [],
   "source": [
    "g = ratings.groupby('movieId')['rating'].count()\n",
    "topMovies = g.sort_values(ascending=False)[:2000]\n",
    "topMovies = np.array(topMovies.index)"
   ]
  },
  {
   "cell_type": "code",
   "execution_count": 83,
   "metadata": {
    "collapsed": true
   },
   "outputs": [
    {
     "ename": "RuntimeError",
     "evalue": "Graph disconnected: cannot obtain value for tensor Tensor(\"movie_in_1:0\", shape=(?, 1), dtype=int64) at layer \"movie_in\". The following previous layers were accessed without issue: []",
     "output_type": "error",
     "traceback": [
      "\u001b[0;31m---------------------------------------------------------------------------\u001b[0m",
      "\u001b[0;31mRuntimeError\u001b[0m                              Traceback (most recent call last)",
      "\u001b[0;32m<ipython-input-83-5e89658e4647>\u001b[0m in \u001b[0;36m<module>\u001b[0;34m()\u001b[0m\n\u001b[0;32m----> 1\u001b[0;31m \u001b[0mget_movie_bias\u001b[0m \u001b[1;33m=\u001b[0m \u001b[0mModel\u001b[0m\u001b[1;33m(\u001b[0m\u001b[0mmovie_in\u001b[0m\u001b[1;33m,\u001b[0m \u001b[0mmb\u001b[0m\u001b[1;33m)\u001b[0m\u001b[1;33m\u001b[0m\u001b[0m\n\u001b[0m\u001b[1;32m      2\u001b[0m \u001b[0mmovie_bias\u001b[0m \u001b[1;33m=\u001b[0m \u001b[0mget_movie_bias\u001b[0m\u001b[1;33m.\u001b[0m\u001b[0mpredict\u001b[0m\u001b[1;33m(\u001b[0m\u001b[0mtopMovies\u001b[0m\u001b[1;33m)\u001b[0m\u001b[1;33m\u001b[0m\u001b[0m\n\u001b[1;32m      3\u001b[0m \u001b[0mmovie_ratings\u001b[0m \u001b[1;33m=\u001b[0m \u001b[1;33m[\u001b[0m\u001b[1;33m(\u001b[0m\u001b[0mb\u001b[0m\u001b[1;33m[\u001b[0m\u001b[1;36m0\u001b[0m\u001b[1;33m]\u001b[0m\u001b[1;33m,\u001b[0m \u001b[0mmovie_names\u001b[0m\u001b[1;33m[\u001b[0m\u001b[0mmovies\u001b[0m\u001b[1;33m[\u001b[0m\u001b[0mi\u001b[0m\u001b[1;33m]\u001b[0m\u001b[1;33m]\u001b[0m\u001b[1;33m)\u001b[0m \u001b[1;32mfor\u001b[0m \u001b[0mi\u001b[0m\u001b[1;33m,\u001b[0m\u001b[0mb\u001b[0m \u001b[1;32min\u001b[0m \u001b[0mzip\u001b[0m\u001b[1;33m(\u001b[0m\u001b[0mtopMovies\u001b[0m\u001b[1;33m,\u001b[0m\u001b[0mmovie_bias\u001b[0m\u001b[1;33m)\u001b[0m\u001b[1;33m]\u001b[0m\u001b[1;33m\u001b[0m\u001b[0m\n",
      "\u001b[0;32mH:\\Anaconda3\\lib\\site-packages\\keras\\legacy\\interfaces.py\u001b[0m in \u001b[0;36mwrapper\u001b[0;34m(*args, **kwargs)\u001b[0m\n\u001b[1;32m     86\u001b[0m                 warnings.warn('Update your `' + object_name +\n\u001b[1;32m     87\u001b[0m                               '` call to the Keras 2 API: ' + signature, stacklevel=2)\n\u001b[0;32m---> 88\u001b[0;31m             \u001b[1;32mreturn\u001b[0m \u001b[0mfunc\u001b[0m\u001b[1;33m(\u001b[0m\u001b[1;33m*\u001b[0m\u001b[0margs\u001b[0m\u001b[1;33m,\u001b[0m \u001b[1;33m**\u001b[0m\u001b[0mkwargs\u001b[0m\u001b[1;33m)\u001b[0m\u001b[1;33m\u001b[0m\u001b[0m\n\u001b[0m\u001b[1;32m     89\u001b[0m         \u001b[0mwrapper\u001b[0m\u001b[1;33m.\u001b[0m\u001b[0m_legacy_support_signature\u001b[0m \u001b[1;33m=\u001b[0m \u001b[0minspect\u001b[0m\u001b[1;33m.\u001b[0m\u001b[0mgetargspec\u001b[0m\u001b[1;33m(\u001b[0m\u001b[0mfunc\u001b[0m\u001b[1;33m)\u001b[0m\u001b[1;33m\u001b[0m\u001b[0m\n\u001b[1;32m     90\u001b[0m         \u001b[1;32mreturn\u001b[0m \u001b[0mwrapper\u001b[0m\u001b[1;33m\u001b[0m\u001b[0m\n",
      "\u001b[0;32mH:\\Anaconda3\\lib\\site-packages\\keras\\engine\\topology.py\u001b[0m in \u001b[0;36m__init__\u001b[0;34m(self, inputs, outputs, name)\u001b[0m\n\u001b[1;32m   1708\u001b[0m                                 \u001b[1;34m'The following previous layers '\u001b[0m\u001b[1;33m\u001b[0m\u001b[0m\n\u001b[1;32m   1709\u001b[0m                                 \u001b[1;34m'were accessed without issue: '\u001b[0m \u001b[1;33m+\u001b[0m\u001b[1;33m\u001b[0m\u001b[0m\n\u001b[0;32m-> 1710\u001b[0;31m                                 str(layers_with_complete_input))\n\u001b[0m\u001b[1;32m   1711\u001b[0m                     \u001b[1;32mfor\u001b[0m \u001b[0mx\u001b[0m \u001b[1;32min\u001b[0m \u001b[0mnode\u001b[0m\u001b[1;33m.\u001b[0m\u001b[0moutput_tensors\u001b[0m\u001b[1;33m:\u001b[0m\u001b[1;33m\u001b[0m\u001b[0m\n\u001b[1;32m   1712\u001b[0m                         \u001b[0mcomputable_tensors\u001b[0m\u001b[1;33m.\u001b[0m\u001b[0mappend\u001b[0m\u001b[1;33m(\u001b[0m\u001b[0mx\u001b[0m\u001b[1;33m)\u001b[0m\u001b[1;33m\u001b[0m\u001b[0m\n",
      "\u001b[0;31mRuntimeError\u001b[0m: Graph disconnected: cannot obtain value for tensor Tensor(\"movie_in_1:0\", shape=(?, 1), dtype=int64) at layer \"movie_in\". The following previous layers were accessed without issue: []"
     ]
    }
   ],
   "source": [
    "get_movie_bias = Model(movie_in, mb)\n",
    "movie_bias = get_movie_bias.predict(topMovies)\n",
    "movie_ratings = [(b[0], movie_names[movies[i]]) for i,b in zip(topMovies,movie_bias)]"
   ]
  },
  {
   "cell_type": "code",
   "execution_count": 51,
   "metadata": {
    "collapsed": false
   },
   "outputs": [],
   "source": [
    "import operator"
   ]
  },
  {
   "cell_type": "code",
   "execution_count": 53,
   "metadata": {
    "collapsed": false
   },
   "outputs": [
    {
     "data": {
      "text/plain": [
       "[(-1.0340273, 'Battlefield Earth (2000)'),\n",
       " (-0.66565764, 'Super Mario Bros. (1993)'),\n",
       " (-0.63319349, 'Police Academy 6: City Under Siege (1989)'),\n",
       " (-0.56280315, 'Police Academy 4: Citizens on Patrol (1987)'),\n",
       " (-0.55983746, 'Speed 2: Cruise Control (1997)'),\n",
       " (-0.55840671, 'Jaws 3-D (1983)'),\n",
       " (-0.53708786, 'Spice World (1997)'),\n",
       " (-0.53677666, 'Howard the Duck (1986)'),\n",
       " (-0.51937348, 'Police Academy 5: Assignment: Miami Beach (1988)'),\n",
       " (-0.49318901, 'Blade: Trinity (2004)'),\n",
       " (-0.46237037, 'Police Academy 3: Back in Training (1986)'),\n",
       " (-0.45498112, 'Mighty Morphin Power Rangers: The Movie (1995)'),\n",
       " (-0.41894358, 'House on Haunted Hill (1999)'),\n",
       " (-0.41134694, 'Superman IV: The Quest for Peace (1987)'),\n",
       " (-0.39329076, 'Anaconda (1997)')]"
      ]
     },
     "execution_count": 53,
     "metadata": {},
     "output_type": "execute_result"
    }
   ],
   "source": [
    "sorted(movie_ratings, key=operator.itemgetter(0))[:15]"
   ]
  },
  {
   "cell_type": "code",
   "execution_count": 54,
   "metadata": {
    "collapsed": false
   },
   "outputs": [
    {
     "data": {
      "text/plain": [
       "[(1.9498818, 'Wings of Desire (Himmel über Berlin, Der) (1987)'),\n",
       " (1.9369031, 'African Queen, The (1951)'),\n",
       " (1.9152941, 'All About Eve (1950)'),\n",
       " (1.8604825, 'It Happened One Night (1934)'),\n",
       " (1.8471717, 'Grand Illusion (La grande illusion) (1937)'),\n",
       " (1.8248702, 'Shawshank Redemption, The (1994)'),\n",
       " (1.7931011, 'Tom Jones (1963)'),\n",
       " (1.7909009, 'Ran (1985)'),\n",
       " (1.7738168, 'Godfather, The (1972)'),\n",
       " (1.7656829, 'Mister Roberts (1955)'),\n",
       " (1.7546382, 'Modern Times (1936)'),\n",
       " (1.7382654, 'Thin Man, The (1934)'),\n",
       " (1.7310246, 'Big Night (1996)'),\n",
       " (1.7272288, 'Diva (1981)'),\n",
       " (1.7227252, 'Grand Day Out with Wallace and Gromit, A (1989)')]"
      ]
     },
     "execution_count": 54,
     "metadata": {},
     "output_type": "execute_result"
    }
   ],
   "source": [
    "sorted(movie_ratings, key=operator.itemgetter(0), reverse=True)[:15]"
   ]
  },
  {
   "cell_type": "markdown",
   "metadata": {},
   "source": [
    "预测1号观众会为2号电影打多少分"
   ]
  },
  {
   "cell_type": "code",
   "execution_count": 72,
   "metadata": {
    "collapsed": false
   },
   "outputs": [],
   "source": [
    "pred = model.predict([np.array([1]), np.array([2])])"
   ]
  },
  {
   "cell_type": "code",
   "execution_count": 73,
   "metadata": {
    "collapsed": false
   },
   "outputs": [
    {
     "data": {
      "text/plain": [
       "array([[ 3.5491395]], dtype=float32)"
      ]
     },
     "execution_count": 73,
     "metadata": {},
     "output_type": "execute_result"
    }
   ],
   "source": [
    "pred"
   ]
  },
  {
   "cell_type": "markdown",
   "metadata": {},
   "source": [
    "## 神经网络\n",
    "上面加了bias，费了好大劲都跑不到jeremy的0.8，下面利用单个隐藏层的神经网络，分分钟就state-of-the-art了..."
   ]
  },
  {
   "cell_type": "code",
   "execution_count": 75,
   "metadata": {
    "collapsed": true
   },
   "outputs": [
    {
     "name": "stderr",
     "output_type": "stream",
     "text": [
      "H:\\Anaconda3\\lib\\site-packages\\ipykernel\\__main__.py:3: UserWarning: Update your `Embedding` call to the Keras 2 API: `Embedding(671, 50, input_length=1, embeddings_regularizer=<keras.reg...)`\n",
      "  app.launch_new_instance()\n",
      "H:\\Anaconda3\\lib\\site-packages\\ipykernel\\__main__.py:3: UserWarning: Update your `Embedding` call to the Keras 2 API: `Embedding(9066, 50, input_length=1, embeddings_regularizer=<keras.reg...)`\n",
      "  app.launch_new_instance()\n"
     ]
    }
   ],
   "source": [
    "user_in, u = embedding_input('user_in', n_users, n_factors, 1e-4)\n",
    "movie_in, m = embedding_input('movie_in', n_movies, n_factors, 1e-4)"
   ]
  },
  {
   "cell_type": "code",
   "execution_count": 79,
   "metadata": {
    "collapsed": true
   },
   "outputs": [
    {
     "name": "stderr",
     "output_type": "stream",
     "text": [
      "H:\\Anaconda3\\lib\\site-packages\\ipykernel\\__main__.py:1: UserWarning: The `merge` function is deprecated and will be removed after 08/2017. Use instead layers from `keras.layers.merge`, e.g. `add`, `concatenate`, etc.\n",
      "  if __name__ == '__main__':\n",
      "H:\\Anaconda3\\lib\\site-packages\\keras\\legacy\\layers.py:460: UserWarning: The `Merge` layer is deprecated and will be removed after 08/2017. Use instead layers from `keras.layers.merge`, e.g. `add`, `concatenate`, etc.\n",
      "  name=name)\n"
     ]
    }
   ],
   "source": [
    "x = merge([u, m], mode='concat')\n",
    "x = Flatten()(x)\n",
    "x = Dropout(0.3)(x)\n",
    "x = Dense(70, activation='relu')(x)\n",
    "x = Dropout(0.75)(x)\n",
    "x = Dense(1)(x)\n",
    "nn = Model([user_in, movie_in], x)\n",
    "nn.compile(optimizers.Adam(0.001), loss='mse')"
   ]
  },
  {
   "cell_type": "code",
   "execution_count": 80,
   "metadata": {
    "collapsed": false,
    "scrolled": false
   },
   "outputs": [
    {
     "name": "stderr",
     "output_type": "stream",
     "text": [
      "H:\\Anaconda3\\lib\\site-packages\\ipykernel\\__main__.py:2: UserWarning: The `nb_epoch` argument in `fit` has been renamed `epochs`.\n",
      "  from ipykernel import kernelapp as app\n"
     ]
    },
    {
     "name": "stdout",
     "output_type": "stream",
     "text": [
      "Train on 79869 samples, validate on 20135 samples\n",
      "Epoch 1/8\n",
      "79869/79869 [==============================] - 44s - loss: 2.4205 - val_loss: 0.9288\n",
      "Epoch 2/8\n",
      "79869/79869 [==============================] - 44s - loss: 1.4480 - val_loss: 0.8860\n",
      "Epoch 3/8\n",
      "79869/79869 [==============================] - 44s - loss: 1.2096 - val_loss: 0.8630\n",
      "Epoch 4/8\n",
      "79869/79869 [==============================] - 43s - loss: 1.0388 - val_loss: 0.8641\n",
      "Epoch 5/8\n",
      "79869/79869 [==============================] - 43s - loss: 0.9082 - val_loss: 0.8568\n",
      "Epoch 6/8\n",
      "79869/79869 [==============================] - 43s - loss: 0.8468 - val_loss: 0.8496\n",
      "Epoch 7/8\n",
      "79869/79869 [==============================] - 43s - loss: 0.8156 - val_loss: 0.8456\n",
      "Epoch 8/8\n",
      "79869/79869 [==============================] - 44s - loss: 0.8062 - val_loss: 0.8443\n"
     ]
    },
    {
     "data": {
      "text/plain": [
       "<keras.callbacks.History at 0x11d3acc0>"
      ]
     },
     "execution_count": 80,
     "metadata": {},
     "output_type": "execute_result"
    }
   ],
   "source": [
    "nn.fit([trn.userId, trn.movieId], trn.rating, batch_size=64, nb_epoch=8, \n",
    "          validation_data=([val.userId, val.movieId], val.rating))"
   ]
  },
  {
   "cell_type": "code",
   "execution_count": 85,
   "metadata": {
    "collapsed": false
   },
   "outputs": [
    {
     "data": {
      "text/plain": [
       "array([[ 3.50317764]], dtype=float32)"
      ]
     },
     "execution_count": 85,
     "metadata": {},
     "output_type": "execute_result"
    }
   ],
   "source": [
    "pred = nn.predict([np.array([1]), np.array([2])])\n",
    "pred"
   ]
  },
  {
   "cell_type": "code",
   "execution_count": 87,
   "metadata": {
    "collapsed": true
   },
   "outputs": [],
   "source": [
    "nn.save_weights(model_path+'nn.h5')"
   ]
  },
  {
   "cell_type": "code",
   "execution_count": null,
   "metadata": {
    "collapsed": true
   },
   "outputs": [],
   "source": []
  }
 ],
 "metadata": {
  "anaconda-cloud": {},
  "kernelspec": {
   "display_name": "Python [conda root]",
   "language": "python",
   "name": "conda-root-py"
  },
  "language_info": {
   "codemirror_mode": {
    "name": "ipython",
    "version": 3
   },
   "file_extension": ".py",
   "mimetype": "text/x-python",
   "name": "python",
   "nbconvert_exporter": "python",
   "pygments_lexer": "ipython3",
   "version": "3.5.2"
  }
 },
 "nbformat": 4,
 "nbformat_minor": 1
}
